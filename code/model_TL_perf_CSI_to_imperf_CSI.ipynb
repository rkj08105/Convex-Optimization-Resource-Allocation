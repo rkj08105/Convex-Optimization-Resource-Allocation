{
 "cells": [
  {
   "cell_type": "code",
   "execution_count": 1,
   "metadata": {},
   "outputs": [],
   "source": [
    "# Program for Transfer learning from Perfect CSI to Imperfect CSI case at outage probability (epsilon) = 0.3679.\n",
    "# It also calulates sum-rate for original data and sum-rate after transfer learning with less training data.\n",
    "# It also verifies all the constraints for the testing data and the training data.\n",
    "# The data is generated using the Imperfect scenario algorithm. "
   ]
  },
  {
   "cell_type": "code",
   "execution_count": 2,
   "metadata": {},
   "outputs": [],
   "source": [
    "# Importing library\n",
    "\n",
    "import time\n",
    "\n",
    "# Below four lines at top for generalization\n",
    "\n",
    "from numpy.random import seed\n",
    "seed(42)\n",
    "import tensorflow\n",
    "tensorflow.random.set_seed(42)\n",
    "\n",
    "import math\n",
    "import numpy as np\n",
    "import pandas as pd\n",
    "import seaborn as sns\n",
    "import matplotlib.pyplot as plt\n",
    "from sklearn.model_selection import train_test_split\n",
    "from sklearn import metrics\n",
    "from sklearn.model_selection import cross_val_score\n",
    "from sklearn.metrics import accuracy_score, r2_score\n",
    "from sklearn import model_selection\n",
    "\n",
    "from sklearn.decomposition import PCA\n",
    "#To show the output within the jupyter notebook itself!\n",
    "%matplotlib inline \n",
    "\n",
    "from keras import layers\n",
    "from keras import models\n",
    "from keras.layers import Activation, LeakyReLU, PReLU, ELU\n",
    "from keras.layers import Dropout\n",
    "from keras.callbacks import LearningRateScheduler\n",
    "from keras.callbacks import History\n",
    "from keras import losses\n",
    "from keras.models import load_model\n",
    "\n",
    "from tensorflow.keras.models import Sequential\n",
    "from tensorflow.keras.layers import Dense, Activation\n",
    "from tensorflow.keras.layers import BatchNormalization\n",
    "\n",
    "import warnings\n",
    "warnings.simplefilter(action='ignore', category=FutureWarning)\n",
    "warnings.filterwarnings('ignore')\n",
    "warnings.filterwarnings('ignore', category=DeprecationWarning)"
   ]
  },
  {
   "cell_type": "code",
   "execution_count": 3,
   "metadata": {},
   "outputs": [
    {
     "data": {
      "text/plain": [
       "(100000, 40)"
      ]
     },
     "execution_count": 3,
     "metadata": {},
     "output_type": "execute_result"
    }
   ],
   "source": [
    "# Input data i.e. xd # channel gains\n",
    "\n",
    "inputs = pd.read_csv(\"xd_imperf_CSI.csv\", header=None)\n",
    "inputs.shape"
   ]
  },
  {
   "cell_type": "code",
   "execution_count": 4,
   "metadata": {},
   "outputs": [
    {
     "data": {
      "text/plain": [
       "pandas.core.frame.DataFrame"
      ]
     },
     "execution_count": 4,
     "metadata": {},
     "output_type": "execute_result"
    }
   ],
   "source": [
    "type(inputs)"
   ]
  },
  {
   "cell_type": "code",
   "execution_count": 5,
   "metadata": {},
   "outputs": [
    {
     "data": {
      "text/html": [
       "<div>\n",
       "<style scoped>\n",
       "    .dataframe tbody tr th:only-of-type {\n",
       "        vertical-align: middle;\n",
       "    }\n",
       "\n",
       "    .dataframe tbody tr th {\n",
       "        vertical-align: top;\n",
       "    }\n",
       "\n",
       "    .dataframe thead th {\n",
       "        text-align: right;\n",
       "    }\n",
       "</style>\n",
       "<table border=\"1\" class=\"dataframe\">\n",
       "  <thead>\n",
       "    <tr style=\"text-align: right;\">\n",
       "      <th></th>\n",
       "      <th>0</th>\n",
       "      <th>1</th>\n",
       "      <th>2</th>\n",
       "      <th>3</th>\n",
       "      <th>4</th>\n",
       "      <th>5</th>\n",
       "      <th>6</th>\n",
       "      <th>7</th>\n",
       "      <th>8</th>\n",
       "      <th>9</th>\n",
       "      <th>...</th>\n",
       "      <th>30</th>\n",
       "      <th>31</th>\n",
       "      <th>32</th>\n",
       "      <th>33</th>\n",
       "      <th>34</th>\n",
       "      <th>35</th>\n",
       "      <th>36</th>\n",
       "      <th>37</th>\n",
       "      <th>38</th>\n",
       "      <th>39</th>\n",
       "    </tr>\n",
       "  </thead>\n",
       "  <tbody>\n",
       "    <tr>\n",
       "      <th>0</th>\n",
       "      <td>0.000021</td>\n",
       "      <td>0.000087</td>\n",
       "      <td>0.000005</td>\n",
       "      <td>0.000006</td>\n",
       "      <td>0.000020</td>\n",
       "      <td>3.799487</td>\n",
       "      <td>0.082692</td>\n",
       "      <td>4.555877</td>\n",
       "      <td>0.073405</td>\n",
       "      <td>0.106689</td>\n",
       "      <td>...</td>\n",
       "      <td>3.450000e-07</td>\n",
       "      <td>7.320000e-07</td>\n",
       "      <td>4.160000e-07</td>\n",
       "      <td>3.370000e-07</td>\n",
       "      <td>3.160000e-07</td>\n",
       "      <td>1.190000e-06</td>\n",
       "      <td>1.240000e-06</td>\n",
       "      <td>1.530000e-06</td>\n",
       "      <td>5.950000e-06</td>\n",
       "      <td>8.480000e-07</td>\n",
       "    </tr>\n",
       "    <tr>\n",
       "      <th>1</th>\n",
       "      <td>0.000006</td>\n",
       "      <td>0.000005</td>\n",
       "      <td>0.000004</td>\n",
       "      <td>0.000031</td>\n",
       "      <td>0.000032</td>\n",
       "      <td>0.257382</td>\n",
       "      <td>0.358181</td>\n",
       "      <td>0.192515</td>\n",
       "      <td>0.110031</td>\n",
       "      <td>0.225655</td>\n",
       "      <td>...</td>\n",
       "      <td>4.330000e-05</td>\n",
       "      <td>7.120000e-07</td>\n",
       "      <td>1.460000e-05</td>\n",
       "      <td>3.790000e-07</td>\n",
       "      <td>1.740000e-06</td>\n",
       "      <td>2.040000e-06</td>\n",
       "      <td>2.230000e-06</td>\n",
       "      <td>3.840000e-06</td>\n",
       "      <td>4.130000e-07</td>\n",
       "      <td>3.590000e-07</td>\n",
       "    </tr>\n",
       "    <tr>\n",
       "      <th>2</th>\n",
       "      <td>0.000025</td>\n",
       "      <td>0.000038</td>\n",
       "      <td>0.000005</td>\n",
       "      <td>0.000178</td>\n",
       "      <td>0.000014</td>\n",
       "      <td>0.058885</td>\n",
       "      <td>10.225773</td>\n",
       "      <td>0.068503</td>\n",
       "      <td>0.220606</td>\n",
       "      <td>4.868746</td>\n",
       "      <td>...</td>\n",
       "      <td>3.060000e-06</td>\n",
       "      <td>1.000000e-05</td>\n",
       "      <td>5.610000e-07</td>\n",
       "      <td>9.080000e-07</td>\n",
       "      <td>1.170000e-06</td>\n",
       "      <td>5.830000e-07</td>\n",
       "      <td>1.610000e-06</td>\n",
       "      <td>2.760000e-07</td>\n",
       "      <td>3.380000e-07</td>\n",
       "      <td>1.260000e-05</td>\n",
       "    </tr>\n",
       "    <tr>\n",
       "      <th>3</th>\n",
       "      <td>0.000004</td>\n",
       "      <td>0.000006</td>\n",
       "      <td>0.000042</td>\n",
       "      <td>0.000024</td>\n",
       "      <td>0.000015</td>\n",
       "      <td>10117.465370</td>\n",
       "      <td>4.961797</td>\n",
       "      <td>0.069956</td>\n",
       "      <td>0.157457</td>\n",
       "      <td>0.307459</td>\n",
       "      <td>...</td>\n",
       "      <td>5.530000e-06</td>\n",
       "      <td>7.630000e-07</td>\n",
       "      <td>6.000000e-07</td>\n",
       "      <td>2.950000e-07</td>\n",
       "      <td>1.090000e-05</td>\n",
       "      <td>1.620000e-06</td>\n",
       "      <td>1.700000e-06</td>\n",
       "      <td>1.880000e-06</td>\n",
       "      <td>4.230000e-07</td>\n",
       "      <td>6.650000e-05</td>\n",
       "    </tr>\n",
       "    <tr>\n",
       "      <th>4</th>\n",
       "      <td>0.000115</td>\n",
       "      <td>0.000004</td>\n",
       "      <td>0.000115</td>\n",
       "      <td>0.000030</td>\n",
       "      <td>0.000005</td>\n",
       "      <td>24.066187</td>\n",
       "      <td>0.067384</td>\n",
       "      <td>0.663461</td>\n",
       "      <td>11.179244</td>\n",
       "      <td>0.678405</td>\n",
       "      <td>...</td>\n",
       "      <td>2.190000e-07</td>\n",
       "      <td>1.820000e-06</td>\n",
       "      <td>3.700000e-07</td>\n",
       "      <td>9.340000e-06</td>\n",
       "      <td>2.910000e-07</td>\n",
       "      <td>9.840000e-08</td>\n",
       "      <td>3.340000e-07</td>\n",
       "      <td>1.450000e-06</td>\n",
       "      <td>2.420000e-06</td>\n",
       "      <td>6.240000e-07</td>\n",
       "    </tr>\n",
       "  </tbody>\n",
       "</table>\n",
       "<p>5 rows × 40 columns</p>\n",
       "</div>"
      ],
      "text/plain": [
       "         0         1         2         3         4             5          6   \\\n",
       "0  0.000021  0.000087  0.000005  0.000006  0.000020      3.799487   0.082692   \n",
       "1  0.000006  0.000005  0.000004  0.000031  0.000032      0.257382   0.358181   \n",
       "2  0.000025  0.000038  0.000005  0.000178  0.000014      0.058885  10.225773   \n",
       "3  0.000004  0.000006  0.000042  0.000024  0.000015  10117.465370   4.961797   \n",
       "4  0.000115  0.000004  0.000115  0.000030  0.000005     24.066187   0.067384   \n",
       "\n",
       "         7          8         9   ...            30            31  \\\n",
       "0  4.555877   0.073405  0.106689  ...  3.450000e-07  7.320000e-07   \n",
       "1  0.192515   0.110031  0.225655  ...  4.330000e-05  7.120000e-07   \n",
       "2  0.068503   0.220606  4.868746  ...  3.060000e-06  1.000000e-05   \n",
       "3  0.069956   0.157457  0.307459  ...  5.530000e-06  7.630000e-07   \n",
       "4  0.663461  11.179244  0.678405  ...  2.190000e-07  1.820000e-06   \n",
       "\n",
       "             32            33            34            35            36  \\\n",
       "0  4.160000e-07  3.370000e-07  3.160000e-07  1.190000e-06  1.240000e-06   \n",
       "1  1.460000e-05  3.790000e-07  1.740000e-06  2.040000e-06  2.230000e-06   \n",
       "2  5.610000e-07  9.080000e-07  1.170000e-06  5.830000e-07  1.610000e-06   \n",
       "3  6.000000e-07  2.950000e-07  1.090000e-05  1.620000e-06  1.700000e-06   \n",
       "4  3.700000e-07  9.340000e-06  2.910000e-07  9.840000e-08  3.340000e-07   \n",
       "\n",
       "             37            38            39  \n",
       "0  1.530000e-06  5.950000e-06  8.480000e-07  \n",
       "1  3.840000e-06  4.130000e-07  3.590000e-07  \n",
       "2  2.760000e-07  3.380000e-07  1.260000e-05  \n",
       "3  1.880000e-06  4.230000e-07  6.650000e-05  \n",
       "4  1.450000e-06  2.420000e-06  6.240000e-07  \n",
       "\n",
       "[5 rows x 40 columns]"
      ]
     },
     "execution_count": 5,
     "metadata": {},
     "output_type": "execute_result"
    }
   ],
   "source": [
    "inputs.head()"
   ]
  },
  {
   "cell_type": "code",
   "execution_count": 6,
   "metadata": {},
   "outputs": [
    {
     "data": {
      "text/plain": [
       "(100000, 50)"
      ]
     },
     "execution_count": 6,
     "metadata": {},
     "output_type": "execute_result"
    }
   ],
   "source": [
    "# Output data1 i.e. ypd # power allocations\n",
    "\n",
    "output1 = pd.read_csv(\"ypd_imperf_CSI.csv\", header=None)\n",
    "output1.shape"
   ]
  },
  {
   "cell_type": "code",
   "execution_count": 7,
   "metadata": {},
   "outputs": [
    {
     "data": {
      "text/html": [
       "<div>\n",
       "<style scoped>\n",
       "    .dataframe tbody tr th:only-of-type {\n",
       "        vertical-align: middle;\n",
       "    }\n",
       "\n",
       "    .dataframe tbody tr th {\n",
       "        vertical-align: top;\n",
       "    }\n",
       "\n",
       "    .dataframe thead th {\n",
       "        text-align: right;\n",
       "    }\n",
       "</style>\n",
       "<table border=\"1\" class=\"dataframe\">\n",
       "  <thead>\n",
       "    <tr style=\"text-align: right;\">\n",
       "      <th></th>\n",
       "      <th>0</th>\n",
       "      <th>1</th>\n",
       "      <th>2</th>\n",
       "      <th>3</th>\n",
       "      <th>4</th>\n",
       "      <th>5</th>\n",
       "      <th>6</th>\n",
       "      <th>7</th>\n",
       "      <th>8</th>\n",
       "      <th>9</th>\n",
       "      <th>...</th>\n",
       "      <th>40</th>\n",
       "      <th>41</th>\n",
       "      <th>42</th>\n",
       "      <th>43</th>\n",
       "      <th>44</th>\n",
       "      <th>45</th>\n",
       "      <th>46</th>\n",
       "      <th>47</th>\n",
       "      <th>48</th>\n",
       "      <th>49</th>\n",
       "    </tr>\n",
       "  </thead>\n",
       "  <tbody>\n",
       "    <tr>\n",
       "      <th>0</th>\n",
       "      <td>0.062966</td>\n",
       "      <td>0.064992</td>\n",
       "      <td>0.062882</td>\n",
       "      <td>0.064190</td>\n",
       "      <td>0.061733</td>\n",
       "      <td>0.063078</td>\n",
       "      <td>0.070798</td>\n",
       "      <td>0.063007</td>\n",
       "      <td>0.020228</td>\n",
       "      <td>0.063004</td>\n",
       "      <td>...</td>\n",
       "      <td>0.025634</td>\n",
       "      <td>0.040721</td>\n",
       "      <td>0.027516</td>\n",
       "      <td>0.024599</td>\n",
       "      <td>0.025306</td>\n",
       "      <td>0.042329</td>\n",
       "      <td>0.045323</td>\n",
       "      <td>0.052945</td>\n",
       "      <td>0.164450</td>\n",
       "      <td>0.031525</td>\n",
       "    </tr>\n",
       "    <tr>\n",
       "      <th>1</th>\n",
       "      <td>0.018495</td>\n",
       "      <td>0.061903</td>\n",
       "      <td>0.053390</td>\n",
       "      <td>0.063225</td>\n",
       "      <td>0.057583</td>\n",
       "      <td>0.062286</td>\n",
       "      <td>0.061840</td>\n",
       "      <td>0.061904</td>\n",
       "      <td>0.053147</td>\n",
       "      <td>0.062036</td>\n",
       "      <td>...</td>\n",
       "      <td>0.432421</td>\n",
       "      <td>0.018660</td>\n",
       "      <td>0.221676</td>\n",
       "      <td>0.397557</td>\n",
       "      <td>0.040231</td>\n",
       "      <td>0.043642</td>\n",
       "      <td>0.047201</td>\n",
       "      <td>0.076179</td>\n",
       "      <td>0.395464</td>\n",
       "      <td>0.774649</td>\n",
       "    </tr>\n",
       "    <tr>\n",
       "      <th>2</th>\n",
       "      <td>0.066753</td>\n",
       "      <td>0.060301</td>\n",
       "      <td>0.069880</td>\n",
       "      <td>0.064622</td>\n",
       "      <td>0.061043</td>\n",
       "      <td>0.062402</td>\n",
       "      <td>0.007717</td>\n",
       "      <td>0.070200</td>\n",
       "      <td>0.064791</td>\n",
       "      <td>0.063005</td>\n",
       "      <td>...</td>\n",
       "      <td>0.013120</td>\n",
       "      <td>0.035763</td>\n",
       "      <td>0.553695</td>\n",
       "      <td>0.513892</td>\n",
       "      <td>0.635656</td>\n",
       "      <td>0.035215</td>\n",
       "      <td>0.076812</td>\n",
       "      <td>0.021375</td>\n",
       "      <td>0.023521</td>\n",
       "      <td>0.564734</td>\n",
       "    </tr>\n",
       "    <tr>\n",
       "      <th>3</th>\n",
       "      <td>0.062641</td>\n",
       "      <td>0.062515</td>\n",
       "      <td>0.063332</td>\n",
       "      <td>0.062534</td>\n",
       "      <td>0.062706</td>\n",
       "      <td>0.061889</td>\n",
       "      <td>0.012086</td>\n",
       "      <td>0.025035</td>\n",
       "      <td>0.048719</td>\n",
       "      <td>0.058285</td>\n",
       "      <td>...</td>\n",
       "      <td>0.418868</td>\n",
       "      <td>0.024722</td>\n",
       "      <td>0.771912</td>\n",
       "      <td>0.628233</td>\n",
       "      <td>0.226815</td>\n",
       "      <td>0.036768</td>\n",
       "      <td>0.076094</td>\n",
       "      <td>0.081788</td>\n",
       "      <td>0.025402</td>\n",
       "      <td>0.317979</td>\n",
       "    </tr>\n",
       "    <tr>\n",
       "      <th>4</th>\n",
       "      <td>0.062960</td>\n",
       "      <td>0.065657</td>\n",
       "      <td>0.063165</td>\n",
       "      <td>0.062912</td>\n",
       "      <td>0.063191</td>\n",
       "      <td>0.012016</td>\n",
       "      <td>0.063102</td>\n",
       "      <td>0.062738</td>\n",
       "      <td>0.061150</td>\n",
       "      <td>0.062629</td>\n",
       "      <td>...</td>\n",
       "      <td>0.697065</td>\n",
       "      <td>0.041261</td>\n",
       "      <td>0.833353</td>\n",
       "      <td>0.168295</td>\n",
       "      <td>0.814349</td>\n",
       "      <td>0.017210</td>\n",
       "      <td>0.025266</td>\n",
       "      <td>0.052281</td>\n",
       "      <td>0.054374</td>\n",
       "      <td>0.035715</td>\n",
       "    </tr>\n",
       "  </tbody>\n",
       "</table>\n",
       "<p>5 rows × 50 columns</p>\n",
       "</div>"
      ],
      "text/plain": [
       "         0         1         2         3         4         5         6   \\\n",
       "0  0.062966  0.064992  0.062882  0.064190  0.061733  0.063078  0.070798   \n",
       "1  0.018495  0.061903  0.053390  0.063225  0.057583  0.062286  0.061840   \n",
       "2  0.066753  0.060301  0.069880  0.064622  0.061043  0.062402  0.007717   \n",
       "3  0.062641  0.062515  0.063332  0.062534  0.062706  0.061889  0.012086   \n",
       "4  0.062960  0.065657  0.063165  0.062912  0.063191  0.012016  0.063102   \n",
       "\n",
       "         7         8         9   ...        40        41        42        43  \\\n",
       "0  0.063007  0.020228  0.063004  ...  0.025634  0.040721  0.027516  0.024599   \n",
       "1  0.061904  0.053147  0.062036  ...  0.432421  0.018660  0.221676  0.397557   \n",
       "2  0.070200  0.064791  0.063005  ...  0.013120  0.035763  0.553695  0.513892   \n",
       "3  0.025035  0.048719  0.058285  ...  0.418868  0.024722  0.771912  0.628233   \n",
       "4  0.062738  0.061150  0.062629  ...  0.697065  0.041261  0.833353  0.168295   \n",
       "\n",
       "         44        45        46        47        48        49  \n",
       "0  0.025306  0.042329  0.045323  0.052945  0.164450  0.031525  \n",
       "1  0.040231  0.043642  0.047201  0.076179  0.395464  0.774649  \n",
       "2  0.635656  0.035215  0.076812  0.021375  0.023521  0.564734  \n",
       "3  0.226815  0.036768  0.076094  0.081788  0.025402  0.317979  \n",
       "4  0.814349  0.017210  0.025266  0.052281  0.054374  0.035715  \n",
       "\n",
       "[5 rows x 50 columns]"
      ]
     },
     "execution_count": 7,
     "metadata": {},
     "output_type": "execute_result"
    }
   ],
   "source": [
    "output1.head()"
   ]
  },
  {
   "cell_type": "code",
   "execution_count": 8,
   "metadata": {},
   "outputs": [
    {
     "data": {
      "text/plain": [
       "(100000, 25)"
      ]
     },
     "execution_count": 8,
     "metadata": {},
     "output_type": "execute_result"
    }
   ],
   "source": [
    "# Output data2 i.e. ybdr # channel assignments\n",
    "\n",
    "output2 = pd.read_csv(\"ybdr_imperf_CSI.csv\", header=None)\n",
    "output2.shape"
   ]
  },
  {
   "cell_type": "code",
   "execution_count": 9,
   "metadata": {},
   "outputs": [
    {
     "data": {
      "text/html": [
       "<div>\n",
       "<style scoped>\n",
       "    .dataframe tbody tr th:only-of-type {\n",
       "        vertical-align: middle;\n",
       "    }\n",
       "\n",
       "    .dataframe tbody tr th {\n",
       "        vertical-align: top;\n",
       "    }\n",
       "\n",
       "    .dataframe thead th {\n",
       "        text-align: right;\n",
       "    }\n",
       "</style>\n",
       "<table border=\"1\" class=\"dataframe\">\n",
       "  <thead>\n",
       "    <tr style=\"text-align: right;\">\n",
       "      <th></th>\n",
       "      <th>0</th>\n",
       "      <th>1</th>\n",
       "      <th>2</th>\n",
       "      <th>3</th>\n",
       "      <th>4</th>\n",
       "      <th>5</th>\n",
       "      <th>6</th>\n",
       "      <th>7</th>\n",
       "      <th>8</th>\n",
       "      <th>9</th>\n",
       "      <th>...</th>\n",
       "      <th>15</th>\n",
       "      <th>16</th>\n",
       "      <th>17</th>\n",
       "      <th>18</th>\n",
       "      <th>19</th>\n",
       "      <th>20</th>\n",
       "      <th>21</th>\n",
       "      <th>22</th>\n",
       "      <th>23</th>\n",
       "      <th>24</th>\n",
       "    </tr>\n",
       "  </thead>\n",
       "  <tbody>\n",
       "    <tr>\n",
       "      <th>0</th>\n",
       "      <td>0.367004</td>\n",
       "      <td>0.137576</td>\n",
       "      <td>0.332458</td>\n",
       "      <td>0.167140</td>\n",
       "      <td>-0.004178</td>\n",
       "      <td>0.306742</td>\n",
       "      <td>0.323720</td>\n",
       "      <td>0.344570</td>\n",
       "      <td>0.000000</td>\n",
       "      <td>0.024968</td>\n",
       "      <td>...</td>\n",
       "      <td>0.182635</td>\n",
       "      <td>0.084420</td>\n",
       "      <td>0.192283</td>\n",
       "      <td>0.325526</td>\n",
       "      <td>0.215135</td>\n",
       "      <td>0.206211</td>\n",
       "      <td>0.305615</td>\n",
       "      <td>0.156238</td>\n",
       "      <td>-0.004449</td>\n",
       "      <td>0.336385</td>\n",
       "    </tr>\n",
       "    <tr>\n",
       "      <th>1</th>\n",
       "      <td>0.000000</td>\n",
       "      <td>0.287106</td>\n",
       "      <td>0.235054</td>\n",
       "      <td>0.319592</td>\n",
       "      <td>0.158249</td>\n",
       "      <td>0.354396</td>\n",
       "      <td>0.192221</td>\n",
       "      <td>0.267708</td>\n",
       "      <td>0.042549</td>\n",
       "      <td>0.143126</td>\n",
       "      <td>...</td>\n",
       "      <td>0.000000</td>\n",
       "      <td>0.362186</td>\n",
       "      <td>0.008533</td>\n",
       "      <td>0.387368</td>\n",
       "      <td>0.241913</td>\n",
       "      <td>0.260880</td>\n",
       "      <td>0.088743</td>\n",
       "      <td>0.104773</td>\n",
       "      <td>0.254104</td>\n",
       "      <td>0.291500</td>\n",
       "    </tr>\n",
       "    <tr>\n",
       "      <th>2</th>\n",
       "      <td>0.225063</td>\n",
       "      <td>0.253052</td>\n",
       "      <td>0.182116</td>\n",
       "      <td>0.206766</td>\n",
       "      <td>0.133003</td>\n",
       "      <td>0.126294</td>\n",
       "      <td>-0.003187</td>\n",
       "      <td>0.252498</td>\n",
       "      <td>0.244046</td>\n",
       "      <td>0.380350</td>\n",
       "      <td>...</td>\n",
       "      <td>0.150798</td>\n",
       "      <td>0.196790</td>\n",
       "      <td>0.205340</td>\n",
       "      <td>0.159507</td>\n",
       "      <td>0.287565</td>\n",
       "      <td>0.254235</td>\n",
       "      <td>0.333836</td>\n",
       "      <td>0.200397</td>\n",
       "      <td>0.214020</td>\n",
       "      <td>-0.002489</td>\n",
       "    </tr>\n",
       "    <tr>\n",
       "      <th>3</th>\n",
       "      <td>0.093096</td>\n",
       "      <td>0.414138</td>\n",
       "      <td>0.120167</td>\n",
       "      <td>0.016331</td>\n",
       "      <td>0.356269</td>\n",
       "      <td>0.573608</td>\n",
       "      <td>-0.007118</td>\n",
       "      <td>-0.006944</td>\n",
       "      <td>-0.008124</td>\n",
       "      <td>0.448578</td>\n",
       "      <td>...</td>\n",
       "      <td>-0.003816</td>\n",
       "      <td>0.347760</td>\n",
       "      <td>0.336788</td>\n",
       "      <td>0.326975</td>\n",
       "      <td>-0.007708</td>\n",
       "      <td>0.094594</td>\n",
       "      <td>0.247804</td>\n",
       "      <td>0.209428</td>\n",
       "      <td>0.451658</td>\n",
       "      <td>-0.003484</td>\n",
       "    </tr>\n",
       "    <tr>\n",
       "      <th>4</th>\n",
       "      <td>0.280687</td>\n",
       "      <td>0.190803</td>\n",
       "      <td>0.185641</td>\n",
       "      <td>0.155674</td>\n",
       "      <td>0.187195</td>\n",
       "      <td>-0.003657</td>\n",
       "      <td>0.216024</td>\n",
       "      <td>0.230694</td>\n",
       "      <td>0.341114</td>\n",
       "      <td>0.215826</td>\n",
       "      <td>...</td>\n",
       "      <td>0.309523</td>\n",
       "      <td>0.114088</td>\n",
       "      <td>0.242605</td>\n",
       "      <td>0.088478</td>\n",
       "      <td>0.245305</td>\n",
       "      <td>0.297062</td>\n",
       "      <td>0.204889</td>\n",
       "      <td>0.138157</td>\n",
       "      <td>0.179650</td>\n",
       "      <td>0.180242</td>\n",
       "    </tr>\n",
       "  </tbody>\n",
       "</table>\n",
       "<p>5 rows × 25 columns</p>\n",
       "</div>"
      ],
      "text/plain": [
       "         0         1         2         3         4         5         6   \\\n",
       "0  0.367004  0.137576  0.332458  0.167140 -0.004178  0.306742  0.323720   \n",
       "1  0.000000  0.287106  0.235054  0.319592  0.158249  0.354396  0.192221   \n",
       "2  0.225063  0.253052  0.182116  0.206766  0.133003  0.126294 -0.003187   \n",
       "3  0.093096  0.414138  0.120167  0.016331  0.356269  0.573608 -0.007118   \n",
       "4  0.280687  0.190803  0.185641  0.155674  0.187195 -0.003657  0.216024   \n",
       "\n",
       "         7         8         9   ...        15        16        17        18  \\\n",
       "0  0.344570  0.000000  0.024968  ...  0.182635  0.084420  0.192283  0.325526   \n",
       "1  0.267708  0.042549  0.143126  ...  0.000000  0.362186  0.008533  0.387368   \n",
       "2  0.252498  0.244046  0.380350  ...  0.150798  0.196790  0.205340  0.159507   \n",
       "3 -0.006944 -0.008124  0.448578  ... -0.003816  0.347760  0.336788  0.326975   \n",
       "4  0.230694  0.341114  0.215826  ...  0.309523  0.114088  0.242605  0.088478   \n",
       "\n",
       "         19        20        21        22        23        24  \n",
       "0  0.215135  0.206211  0.305615  0.156238 -0.004449  0.336385  \n",
       "1  0.241913  0.260880  0.088743  0.104773  0.254104  0.291500  \n",
       "2  0.287565  0.254235  0.333836  0.200397  0.214020 -0.002489  \n",
       "3 -0.007708  0.094594  0.247804  0.209428  0.451658 -0.003484  \n",
       "4  0.245305  0.297062  0.204889  0.138157  0.179650  0.180242  \n",
       "\n",
       "[5 rows x 25 columns]"
      ]
     },
     "execution_count": 9,
     "metadata": {},
     "output_type": "execute_result"
    }
   ],
   "source": [
    "output2.head()"
   ]
  },
  {
   "cell_type": "code",
   "execution_count": 10,
   "metadata": {},
   "outputs": [
    {
     "data": {
      "text/plain": [
       "(100000, 75)"
      ]
     },
     "execution_count": 10,
     "metadata": {},
     "output_type": "execute_result"
    }
   ],
   "source": [
    "# Both output data combined i.e. ypd and ybdr (power allocations + channel assignments)\n",
    "\n",
    "outputc = pd.concat([output1, output2], axis=1)\n",
    "outputc.shape"
   ]
  },
  {
   "cell_type": "code",
   "execution_count": 11,
   "metadata": {},
   "outputs": [
    {
     "data": {
      "text/html": [
       "<div>\n",
       "<style scoped>\n",
       "    .dataframe tbody tr th:only-of-type {\n",
       "        vertical-align: middle;\n",
       "    }\n",
       "\n",
       "    .dataframe tbody tr th {\n",
       "        vertical-align: top;\n",
       "    }\n",
       "\n",
       "    .dataframe thead th {\n",
       "        text-align: right;\n",
       "    }\n",
       "</style>\n",
       "<table border=\"1\" class=\"dataframe\">\n",
       "  <thead>\n",
       "    <tr style=\"text-align: right;\">\n",
       "      <th></th>\n",
       "      <th>0</th>\n",
       "      <th>1</th>\n",
       "      <th>2</th>\n",
       "      <th>3</th>\n",
       "      <th>4</th>\n",
       "      <th>5</th>\n",
       "      <th>6</th>\n",
       "      <th>7</th>\n",
       "      <th>8</th>\n",
       "      <th>9</th>\n",
       "      <th>...</th>\n",
       "      <th>15</th>\n",
       "      <th>16</th>\n",
       "      <th>17</th>\n",
       "      <th>18</th>\n",
       "      <th>19</th>\n",
       "      <th>20</th>\n",
       "      <th>21</th>\n",
       "      <th>22</th>\n",
       "      <th>23</th>\n",
       "      <th>24</th>\n",
       "    </tr>\n",
       "  </thead>\n",
       "  <tbody>\n",
       "    <tr>\n",
       "      <th>0</th>\n",
       "      <td>0.062966</td>\n",
       "      <td>0.064992</td>\n",
       "      <td>0.062882</td>\n",
       "      <td>0.064190</td>\n",
       "      <td>0.061733</td>\n",
       "      <td>0.063078</td>\n",
       "      <td>0.070798</td>\n",
       "      <td>0.063007</td>\n",
       "      <td>0.020228</td>\n",
       "      <td>0.063004</td>\n",
       "      <td>...</td>\n",
       "      <td>0.182635</td>\n",
       "      <td>0.084420</td>\n",
       "      <td>0.192283</td>\n",
       "      <td>0.325526</td>\n",
       "      <td>0.215135</td>\n",
       "      <td>0.206211</td>\n",
       "      <td>0.305615</td>\n",
       "      <td>0.156238</td>\n",
       "      <td>-0.004449</td>\n",
       "      <td>0.336385</td>\n",
       "    </tr>\n",
       "    <tr>\n",
       "      <th>1</th>\n",
       "      <td>0.018495</td>\n",
       "      <td>0.061903</td>\n",
       "      <td>0.053390</td>\n",
       "      <td>0.063225</td>\n",
       "      <td>0.057583</td>\n",
       "      <td>0.062286</td>\n",
       "      <td>0.061840</td>\n",
       "      <td>0.061904</td>\n",
       "      <td>0.053147</td>\n",
       "      <td>0.062036</td>\n",
       "      <td>...</td>\n",
       "      <td>0.000000</td>\n",
       "      <td>0.362186</td>\n",
       "      <td>0.008533</td>\n",
       "      <td>0.387368</td>\n",
       "      <td>0.241913</td>\n",
       "      <td>0.260880</td>\n",
       "      <td>0.088743</td>\n",
       "      <td>0.104773</td>\n",
       "      <td>0.254104</td>\n",
       "      <td>0.291500</td>\n",
       "    </tr>\n",
       "    <tr>\n",
       "      <th>2</th>\n",
       "      <td>0.066753</td>\n",
       "      <td>0.060301</td>\n",
       "      <td>0.069880</td>\n",
       "      <td>0.064622</td>\n",
       "      <td>0.061043</td>\n",
       "      <td>0.062402</td>\n",
       "      <td>0.007717</td>\n",
       "      <td>0.070200</td>\n",
       "      <td>0.064791</td>\n",
       "      <td>0.063005</td>\n",
       "      <td>...</td>\n",
       "      <td>0.150798</td>\n",
       "      <td>0.196790</td>\n",
       "      <td>0.205340</td>\n",
       "      <td>0.159507</td>\n",
       "      <td>0.287565</td>\n",
       "      <td>0.254235</td>\n",
       "      <td>0.333836</td>\n",
       "      <td>0.200397</td>\n",
       "      <td>0.214020</td>\n",
       "      <td>-0.002489</td>\n",
       "    </tr>\n",
       "    <tr>\n",
       "      <th>3</th>\n",
       "      <td>0.062641</td>\n",
       "      <td>0.062515</td>\n",
       "      <td>0.063332</td>\n",
       "      <td>0.062534</td>\n",
       "      <td>0.062706</td>\n",
       "      <td>0.061889</td>\n",
       "      <td>0.012086</td>\n",
       "      <td>0.025035</td>\n",
       "      <td>0.048719</td>\n",
       "      <td>0.058285</td>\n",
       "      <td>...</td>\n",
       "      <td>-0.003816</td>\n",
       "      <td>0.347760</td>\n",
       "      <td>0.336788</td>\n",
       "      <td>0.326975</td>\n",
       "      <td>-0.007708</td>\n",
       "      <td>0.094594</td>\n",
       "      <td>0.247804</td>\n",
       "      <td>0.209428</td>\n",
       "      <td>0.451658</td>\n",
       "      <td>-0.003484</td>\n",
       "    </tr>\n",
       "    <tr>\n",
       "      <th>4</th>\n",
       "      <td>0.062960</td>\n",
       "      <td>0.065657</td>\n",
       "      <td>0.063165</td>\n",
       "      <td>0.062912</td>\n",
       "      <td>0.063191</td>\n",
       "      <td>0.012016</td>\n",
       "      <td>0.063102</td>\n",
       "      <td>0.062738</td>\n",
       "      <td>0.061150</td>\n",
       "      <td>0.062629</td>\n",
       "      <td>...</td>\n",
       "      <td>0.309523</td>\n",
       "      <td>0.114088</td>\n",
       "      <td>0.242605</td>\n",
       "      <td>0.088478</td>\n",
       "      <td>0.245305</td>\n",
       "      <td>0.297062</td>\n",
       "      <td>0.204889</td>\n",
       "      <td>0.138157</td>\n",
       "      <td>0.179650</td>\n",
       "      <td>0.180242</td>\n",
       "    </tr>\n",
       "  </tbody>\n",
       "</table>\n",
       "<p>5 rows × 75 columns</p>\n",
       "</div>"
      ],
      "text/plain": [
       "         0         1         2         3         4         5         6   \\\n",
       "0  0.062966  0.064992  0.062882  0.064190  0.061733  0.063078  0.070798   \n",
       "1  0.018495  0.061903  0.053390  0.063225  0.057583  0.062286  0.061840   \n",
       "2  0.066753  0.060301  0.069880  0.064622  0.061043  0.062402  0.007717   \n",
       "3  0.062641  0.062515  0.063332  0.062534  0.062706  0.061889  0.012086   \n",
       "4  0.062960  0.065657  0.063165  0.062912  0.063191  0.012016  0.063102   \n",
       "\n",
       "         7         8         9   ...        15        16        17        18  \\\n",
       "0  0.063007  0.020228  0.063004  ...  0.182635  0.084420  0.192283  0.325526   \n",
       "1  0.061904  0.053147  0.062036  ...  0.000000  0.362186  0.008533  0.387368   \n",
       "2  0.070200  0.064791  0.063005  ...  0.150798  0.196790  0.205340  0.159507   \n",
       "3  0.025035  0.048719  0.058285  ... -0.003816  0.347760  0.336788  0.326975   \n",
       "4  0.062738  0.061150  0.062629  ...  0.309523  0.114088  0.242605  0.088478   \n",
       "\n",
       "         19        20        21        22        23        24  \n",
       "0  0.215135  0.206211  0.305615  0.156238 -0.004449  0.336385  \n",
       "1  0.241913  0.260880  0.088743  0.104773  0.254104  0.291500  \n",
       "2  0.287565  0.254235  0.333836  0.200397  0.214020 -0.002489  \n",
       "3 -0.007708  0.094594  0.247804  0.209428  0.451658 -0.003484  \n",
       "4  0.245305  0.297062  0.204889  0.138157  0.179650  0.180242  \n",
       "\n",
       "[5 rows x 75 columns]"
      ]
     },
     "execution_count": 11,
     "metadata": {},
     "output_type": "execute_result"
    }
   ],
   "source": [
    "outputc.head()"
   ]
  },
  {
   "cell_type": "code",
   "execution_count": 12,
   "metadata": {},
   "outputs": [
    {
     "data": {
      "text/plain": [
       "array([[2.07000e-05, 8.70000e-05, 5.42000e-06, ..., 1.53000e-06,\n",
       "        5.95000e-06, 8.48000e-07],\n",
       "       [5.94000e-06, 5.00000e-06, 4.46000e-06, ..., 3.84000e-06,\n",
       "        4.13000e-07, 3.59000e-07],\n",
       "       [2.48000e-05, 3.76000e-05, 4.85000e-06, ..., 2.76000e-07,\n",
       "        3.38000e-07, 1.26000e-05],\n",
       "       ...,\n",
       "       [2.77000e-05, 1.75000e-05, 8.75000e-06, ..., 6.74000e-07,\n",
       "        2.13000e-07, 2.66000e-07],\n",
       "       [5.01000e-06, 4.67000e-05, 5.01000e-06, ..., 3.48000e-07,\n",
       "        2.25000e-07, 2.39000e-07],\n",
       "       [2.11158e-04, 3.82000e-06, 6.01000e-05, ..., 1.14000e-05,\n",
       "        2.85000e-06, 4.67000e-05]])"
      ]
     },
     "execution_count": 12,
     "metadata": {},
     "output_type": "execute_result"
    }
   ],
   "source": [
    "# Pre-processing\n",
    "\n",
    "x = inputs.values  # converting dataframe \"inputs\" into array form\n",
    "x"
   ]
  },
  {
   "cell_type": "code",
   "execution_count": 13,
   "metadata": {},
   "outputs": [
    {
     "data": {
      "text/plain": [
       "(100000, 40)"
      ]
     },
     "execution_count": 13,
     "metadata": {},
     "output_type": "execute_result"
    }
   ],
   "source": [
    "x.shape"
   ]
  },
  {
   "cell_type": "code",
   "execution_count": 14,
   "metadata": {},
   "outputs": [
    {
     "data": {
      "text/plain": [
       "array([[ 0.06296569,  0.06499165,  0.06288236, ...,  0.15623803,\n",
       "        -0.00444893,  0.33638455],\n",
       "       [ 0.01849512,  0.06190345,  0.05339005, ...,  0.10477329,\n",
       "         0.25410437,  0.2914998 ],\n",
       "       [ 0.06675301,  0.06030063,  0.0698801 , ...,  0.20039713,\n",
       "         0.21402041, -0.00248876],\n",
       "       ...,\n",
       "       [ 0.06443045,  0.06372662,  0.04018295, ...,  0.19732785,\n",
       "         0.33673501,  0.3567634 ],\n",
       "       [ 0.06059535,  0.06194541,  0.05314486, ...,  0.07897355,\n",
       "         0.40019504,  0.15152195],\n",
       "       [ 0.0644998 ,  0.06716786,  0.06294923, ...,  0.11289442,\n",
       "         0.42302779, -0.00461744]])"
      ]
     },
     "execution_count": 14,
     "metadata": {},
     "output_type": "execute_result"
    }
   ],
   "source": [
    "y = outputc.values # converting dataframe \"outputc\" in array form i.e. 'y' is now in array form \n",
    "y # y is combination of power assignments and channel assignments both."
   ]
  },
  {
   "cell_type": "code",
   "execution_count": 15,
   "metadata": {},
   "outputs": [
    {
     "data": {
      "text/plain": [
       "(100000, 75)"
      ]
     },
     "execution_count": 15,
     "metadata": {},
     "output_type": "execute_result"
    }
   ],
   "source": [
    "y.shape"
   ]
  },
  {
   "cell_type": "code",
   "execution_count": 16,
   "metadata": {},
   "outputs": [],
   "source": [
    "##################### Sum-rate with original data ################################"
   ]
  },
  {
   "cell_type": "code",
   "execution_count": 17,
   "metadata": {},
   "outputs": [
    {
     "name": "stdout",
     "output_type": "stream",
     "text": [
      "1416712.4565927594\n"
     ]
    }
   ],
   "source": [
    "# Sum-rate with original data\n",
    "\n",
    "NO=1.19*(10**-6)\n",
    "C_min=1.25892541179416\n",
    "D_min=1.25892541179416\n",
    "\n",
    "pb=y[:,0:25]\n",
    "pd=y[:,25:50]\n",
    "B=y[:,50:75]\n",
    "gb=x[:,0:5]\n",
    "gd=x[:,5:10]\n",
    "hb=x[:,10:15]\n",
    "\n",
    "epsilon=0.3679 \n",
    "hc=x[:,15:40]\n",
    "hc_inverse_cdf=hc*(-1*math.log(epsilon))\n",
    "\n",
    "scaling_factor_pb=100                 # See DPB.csv file\n",
    "scaling_factor_pd=12.5892541179416    # See DPD.csv file\n",
    "\n",
    "pb_scaled=scaling_factor_pb*(pb)\n",
    "pd_scaled=scaling_factor_pd*(pd)\n",
    "\n",
    "# Converting ybdr_new in ybd_binary i.e. converting continuous channel assignments \n",
    "# into binary form \n",
    "\n",
    "sm_BW=np.zeros(len(B))\n",
    "B_binary_array=[]\n",
    "for rows in B:\n",
    "    #print(len(rows))\n",
    "    tempList=[]\n",
    "    maxValue=0\n",
    "    \n",
    "    for j in range(len(rows)):\n",
    "        if j%5==0:\n",
    "            maxValue=max(rows[j:j+5])\n",
    "            #print(j)\n",
    "        if rows[j]==maxValue:\n",
    "            tempList.append(1)\n",
    "        else:\n",
    "            tempList.append(0)\n",
    "            \n",
    "    B_binary_array.append(tempList)\n",
    "    \n",
    "for i in range (len(B)): # 100000\n",
    "    for j in range (B.shape[1]): # 25\n",
    "        if B_binary_array[i][j]==1:  \n",
    "            if j<5:\n",
    "                gb1=gb[i][0]\n",
    "                gd1=gd[i][j] \n",
    "                hb1=hb[i][j]\n",
    "            elif j>=5 and j<10:\n",
    "                gb1=gb[i][1]\n",
    "                gd1=gd[i][j-5]\n",
    "                hb1=hb[i][j-5]\n",
    "            elif j>=10 and j<15:\n",
    "                gb1=gb[i][2]\n",
    "                gd1=gd[i][j-10]\n",
    "                hb1=hb[i][j-10]\n",
    "            elif j>=15 and j<20:\n",
    "                gb1=gb[i][3]\n",
    "                gd1=gd[i][j-15]\n",
    "                hb1=hb[i][j-15]\n",
    "            elif j>=20:\n",
    "                gb1=gb[i][4]\n",
    "                gd1=gd[i][j-20]\n",
    "                hb1=hb[i][j-20]\n",
    "                \n",
    "            ############## SINR for constraint 1(d) \n",
    "            SINR_D=((pb_scaled[i][j]*gb1)/(NO+(pd_scaled[i][j]*hc_inverse_cdf[i][j]))) # To use scaled pb and pd\n",
    "#             print(SINR_D)\n",
    "            sm1=math.log2(1+SINR_D)  # sm- sum-rate for contraint 1(d)\n",
    "#             print(sm1)\n",
    "\n",
    "            ############## SINR for constraint 1(e)\n",
    "            SINR_E=((pd_scaled[i][j]*gd1)/(NO+(pb_scaled[i][j]*hb1)))  # To use scaled pb and pd\n",
    "#             print(SINR_E)\n",
    "            sm2=math.log2(1+SINR_E)  # sm- sum-rate for contraint 1(e)\n",
    "#             print(sm2)\n",
    "\n",
    "            ########## Sum-rate calculation\n",
    "            BW=15000  # Band-width\n",
    "            sm_tot=sm1+sm2 # total sum-rate\n",
    "#             print(sm_tot) \n",
    "            sm_BW[i]=sm_BW[i]+BW*sm_tot \n",
    "#             print(sm_BW) \n",
    "sm_avg_org=np.mean(sm_BW) # average sum-rate\n",
    "print(sm_avg_org)"
   ]
  },
  {
   "cell_type": "code",
   "execution_count": 18,
   "metadata": {},
   "outputs": [
    {
     "data": {
      "text/plain": [
       "1416712.4565927594"
      ]
     },
     "execution_count": 18,
     "metadata": {},
     "output_type": "execute_result"
    }
   ],
   "source": [
    "sm_avg_org"
   ]
  },
  {
   "cell_type": "code",
   "execution_count": 19,
   "metadata": {},
   "outputs": [],
   "source": [
    "# Splitting data for training and testing \n",
    "# Here both x and y are in array form (non-scaled)\n",
    "\n",
    "from sklearn.model_selection import train_test_split\n",
    "\n",
    "test_size = 0.5\n",
    "x_train, x_test, y_train, y_test = train_test_split(x, y, test_size=test_size, shuffle=False, random_state=42) \n",
    "\n",
    "# x_train, x_test, y_train, y_test = train_test_split(x, y, test_size=0.99, shuffle=True)"
   ]
  },
  {
   "cell_type": "code",
   "execution_count": 20,
   "metadata": {},
   "outputs": [],
   "source": [
    "# Feature Scaling\n",
    "# from sklearn.preprocessing import StandardScaler\n",
    "# sc = StandardScaler()\n",
    "# x_train = sc.fit_transform(x_train)\n",
    "# x_test = sc.transform(x_test)"
   ]
  },
  {
   "cell_type": "code",
   "execution_count": 21,
   "metadata": {},
   "outputs": [],
   "source": [
    "##################### Transfer learning Strategy ##########################"
   ]
  },
  {
   "cell_type": "code",
   "execution_count": 22,
   "metadata": {},
   "outputs": [],
   "source": [
    "# Loading the saved baseline model # 3 hidden layers case (optimal case) # Transfer learning\n",
    "\n",
    "model = load_model('baseline_model_perfect_CSI.h5')\n",
    "\n",
    "# Note- Once loaded, the model can be compiled and fit as per normal ways."
   ]
  },
  {
   "cell_type": "code",
   "execution_count": 23,
   "metadata": {},
   "outputs": [
    {
     "name": "stdout",
     "output_type": "stream",
     "text": [
      "Model: \"sequential\"\n",
      "_________________________________________________________________\n",
      "Layer (type)                 Output Shape              Param #   \n",
      "=================================================================\n",
      "dense (Dense)                (None, 40)                1640      \n",
      "_________________________________________________________________\n",
      "dense_1 (Dense)              (None, 20)                820       \n",
      "_________________________________________________________________\n",
      "dense_2 (Dense)              (None, 5)                 105       \n",
      "_________________________________________________________________\n",
      "dense_3 (Dense)              (None, 75)                450       \n",
      "=================================================================\n",
      "Total params: 3,015\n",
      "Trainable params: 3,015\n",
      "Non-trainable params: 0\n",
      "_________________________________________________________________\n"
     ]
    }
   ],
   "source": [
    "# summarize the pre-trained model (i.e. optimization project model)\n",
    "\n",
    "model.summary()"
   ]
  },
  {
   "cell_type": "code",
   "execution_count": 24,
   "metadata": {},
   "outputs": [],
   "source": [
    "# Compiling model \n",
    "\n",
    "from tensorflow.keras.callbacks import EarlyStopping\n",
    "model.compile(optimizer='ADAM', loss='mean_squared_error', metrics = ['mean_absolute_error']) \n",
    "monitor = EarlyStopping(monitor='val_loss', min_delta=0.0001, patience=10, \n",
    "                        verbose=1, mode='auto', restore_best_weights=True)"
   ]
  },
  {
   "cell_type": "code",
   "execution_count": 25,
   "metadata": {},
   "outputs": [],
   "source": [
    "# To get training start time\n",
    "\n",
    "tic = time.perf_counter() # start time "
   ]
  },
  {
   "cell_type": "code",
   "execution_count": 26,
   "metadata": {},
   "outputs": [
    {
     "name": "stdout",
     "output_type": "stream",
     "text": [
      "Epoch 1/1000\n",
      "196/196 - 2s - loss: 0.1791 - mean_absolute_error: 0.2696 - val_loss: 0.1400 - val_mean_absolute_error: 0.2347\n",
      "Epoch 2/1000\n",
      "196/196 - 1s - loss: 1.0167 - mean_absolute_error: 0.2143 - val_loss: 0.0875 - val_mean_absolute_error: 0.1888\n",
      "Epoch 3/1000\n",
      "196/196 - 1s - loss: 0.0707 - mean_absolute_error: 0.1726 - val_loss: 0.0567 - val_mean_absolute_error: 0.1591\n",
      "Epoch 4/1000\n",
      "196/196 - 1s - loss: 0.0477 - mean_absolute_error: 0.1490 - val_loss: 0.0405 - val_mean_absolute_error: 0.1404\n",
      "Epoch 5/1000\n",
      "196/196 - 1s - loss: 0.0361 - mean_absolute_error: 0.1339 - val_loss: 0.0328 - val_mean_absolute_error: 0.1284\n",
      "Epoch 6/1000\n",
      "196/196 - 1s - loss: 0.0311 - mean_absolute_error: 0.1245 - val_loss: 0.0298 - val_mean_absolute_error: 0.1213\n",
      "Epoch 7/1000\n",
      "196/196 - 1s - loss: 0.0291 - mean_absolute_error: 0.1190 - val_loss: 0.0287 - val_mean_absolute_error: 0.1171\n",
      "Epoch 8/1000\n",
      "196/196 - 1s - loss: 0.0285 - mean_absolute_error: 0.1158 - val_loss: 0.0284 - val_mean_absolute_error: 0.1148\n",
      "Epoch 9/1000\n",
      "196/196 - 1s - loss: 0.0284 - mean_absolute_error: 0.1142 - val_loss: 0.0283 - val_mean_absolute_error: 0.1137\n",
      "Epoch 10/1000\n",
      "196/196 - 1s - loss: 0.0283 - mean_absolute_error: 0.1135 - val_loss: 0.0283 - val_mean_absolute_error: 0.1132\n",
      "Epoch 11/1000\n",
      "196/196 - 1s - loss: 0.0283 - mean_absolute_error: 0.1131 - val_loss: 0.0283 - val_mean_absolute_error: 0.1130\n",
      "Epoch 12/1000\n",
      "196/196 - 1s - loss: 0.0283 - mean_absolute_error: 0.1130 - val_loss: 0.0283 - val_mean_absolute_error: 0.1129\n",
      "Epoch 13/1000\n",
      "196/196 - 1s - loss: 0.0283 - mean_absolute_error: 0.1130 - val_loss: 0.0283 - val_mean_absolute_error: 0.1129\n",
      "Epoch 14/1000\n",
      "196/196 - 1s - loss: 0.0283 - mean_absolute_error: 0.1129 - val_loss: 0.0283 - val_mean_absolute_error: 0.1129\n",
      "Epoch 15/1000\n",
      "196/196 - 1s - loss: 0.0283 - mean_absolute_error: 0.1129 - val_loss: 0.0283 - val_mean_absolute_error: 0.1129\n",
      "Epoch 16/1000\n",
      "196/196 - 1s - loss: 0.0283 - mean_absolute_error: 0.1129 - val_loss: 0.0283 - val_mean_absolute_error: 0.1129\n",
      "Epoch 17/1000\n",
      "196/196 - 1s - loss: 0.0283 - mean_absolute_error: 0.1129 - val_loss: 0.0283 - val_mean_absolute_error: 0.1129\n",
      "Epoch 18/1000\n",
      "196/196 - 1s - loss: 0.0283 - mean_absolute_error: 0.1129 - val_loss: 0.0283 - val_mean_absolute_error: 0.1129\n",
      "Restoring model weights from the end of the best epoch.\n",
      "Epoch 00018: early stopping\n"
     ]
    }
   ],
   "source": [
    "# Re-fitting model to training set\n",
    "\n",
    "model_history=model.fit(x_train, y_train, validation_data=(x_test, y_test), batch_size=256, verbose=2, callbacks=[monitor], epochs=1000)"
   ]
  },
  {
   "cell_type": "code",
   "execution_count": 27,
   "metadata": {},
   "outputs": [
    {
     "name": "stdout",
     "output_type": "stream",
     "text": [
      "Training time: 13.833 seconds\n"
     ]
    }
   ],
   "source": [
    "# To get finish time of training\n",
    "toc = time.perf_counter()  # end time\n",
    "\n",
    "# Time taken during training\n",
    "print(f\"Training time: {toc - tic:0.3f} seconds\")"
   ]
  },
  {
   "cell_type": "code",
   "execution_count": 28,
   "metadata": {},
   "outputs": [
    {
     "name": "stdout",
     "output_type": "stream",
     "text": [
      "dict_keys(['loss', 'mean_absolute_error', 'val_loss', 'val_mean_absolute_error'])\n"
     ]
    }
   ],
   "source": [
    "# list all data in history\n",
    "\n",
    "print(model_history.history.keys())"
   ]
  },
  {
   "cell_type": "code",
   "execution_count": 29,
   "metadata": {},
   "outputs": [
    {
     "data": {
      "image/png": "[encoded data removed]",
      "text/plain": [
       "<Figure size 432x288 with 1 Axes>"
      ]
     },
     "metadata": {
      "needs_background": "light"
     },
     "output_type": "display_data"
    }
   ],
   "source": [
    "# summarize history for accuracy\n",
    "acc = model_history.history['mean_absolute_error']\n",
    "val_acc = model_history.history['val_mean_absolute_error']\n",
    "\n",
    "plt.plot(acc)\n",
    "plt.plot(val_acc)\n",
    "plt.title('Model accuracy')\n",
    "plt.ylabel('Mean Absolute Error')\n",
    "plt.xlabel('Number of Epochs')\n",
    "plt.legend(['train', 'test'], loc='upper right')\n",
    "# plt.savefig('model_accuracy.pdf')\n",
    "plt.grid()\n",
    "plt.show()"
   ]
  },
  {
   "cell_type": "code",
   "execution_count": 30,
   "metadata": {},
   "outputs": [
    {
     "data": {
      "image/png": "[encoded data removed]",
      "text/plain": [
       "<Figure size 432x288 with 1 Axes>"
      ]
     },
     "metadata": {
      "needs_background": "light"
     },
     "output_type": "display_data"
    }
   ],
   "source": [
    "# summarize history for loss\n",
    "\n",
    "loss = model_history.history['loss']\n",
    "val_loss = model_history.history['val_loss']\n",
    "plt.plot(loss)\n",
    "plt.plot(val_loss)\n",
    "plt.title('Model loss')\n",
    "plt.ylabel('Loss (MSE)')\n",
    "plt.xlabel('Number of Epochs')\n",
    "plt.legend(['train', 'test'], loc='upper right')\n",
    "# plt.savefig('model_loss.pdf')\n",
    "plt.grid()\n",
    "plt.show()"
   ]
  },
  {
   "cell_type": "code",
   "execution_count": 31,
   "metadata": {},
   "outputs": [],
   "source": [
    "# To get start time of testing\n",
    "tic = time.perf_counter() # start time "
   ]
  },
  {
   "cell_type": "code",
   "execution_count": 32,
   "metadata": {},
   "outputs": [],
   "source": [
    "# Making the predictions for testing\n",
    "\n",
    "# Predicting the Test set results\n",
    "y_pred = model.predict(x_test) \n",
    "# y_pred"
   ]
  },
  {
   "cell_type": "code",
   "execution_count": 33,
   "metadata": {},
   "outputs": [
    {
     "name": "stdout",
     "output_type": "stream",
     "text": [
      "Testing time: 1.941 seconds\n"
     ]
    }
   ],
   "source": [
    "# To get end time of testing\n",
    "toc = time.perf_counter()  # end time\n",
    "\n",
    "# Time taken during testing\n",
    "print(f\"Testing time: {toc - tic:0.3f} seconds\")"
   ]
  },
  {
   "cell_type": "code",
   "execution_count": 34,
   "metadata": {},
   "outputs": [
    {
     "data": {
      "text/plain": [
       "(50000, 75)"
      ]
     },
     "execution_count": 34,
     "metadata": {},
     "output_type": "execute_result"
    }
   ],
   "source": [
    "y_pred.shape"
   ]
  },
  {
   "cell_type": "code",
   "execution_count": 35,
   "metadata": {},
   "outputs": [
    {
     "name": "stdout",
     "output_type": "stream",
     "text": [
      "Test Mean Squared error (MSE): 0.028378844338636387\n",
      "Test Root mean squared error (RMSE): 0.1684602158927632\n",
      "Test Mean absolute error (MAE): 0.11480006457271578\n"
     ]
    }
   ],
   "source": [
    "# Evaluating the model # Test error\n",
    "\n",
    "# Measure MSE error  \n",
    "mse_test = metrics.mean_squared_error(y_test, y_pred)\n",
    "print(\"Test Mean Squared error (MSE): {}\".format(mse_test))\n",
    "\n",
    "# Measure RMSE error \n",
    "rmse_test = np.sqrt(metrics.mean_squared_error(y_test, y_pred))\n",
    "print(\"Test Root mean squared error (RMSE): {}\".format(rmse_test))\n",
    "\n",
    "# Measure MAE error\n",
    "mae_test = metrics.mean_absolute_error(y_test, y_pred)\n",
    "print(\"Test Mean absolute error (MAE): {}\".format(mae_test))"
   ]
  },
  {
   "cell_type": "code",
   "execution_count": 36,
   "metadata": {},
   "outputs": [
    {
     "data": {
      "text/plain": [
       "array([[0.05858873, 0.05854135, 0.05867425, ..., 0.19787106, 0.20223759,\n",
       "        0.19717786],\n",
       "       [0.05858873, 0.05854135, 0.05867425, ..., 0.19787106, 0.20223759,\n",
       "        0.19717786],\n",
       "       [0.05858873, 0.05854135, 0.05867425, ..., 0.19787106, 0.20223759,\n",
       "        0.19717786],\n",
       "       ...,\n",
       "       [0.05858873, 0.05854135, 0.05867425, ..., 0.19787106, 0.20223759,\n",
       "        0.19717786],\n",
       "       [0.05858873, 0.05854135, 0.05867425, ..., 0.19787106, 0.20223759,\n",
       "        0.19717786],\n",
       "       [0.05858873, 0.05854135, 0.05867425, ..., 0.19787106, 0.20223759,\n",
       "        0.19717786]], dtype=float32)"
      ]
     },
     "execution_count": 36,
     "metadata": {},
     "output_type": "execute_result"
    }
   ],
   "source": [
    "# Making the predictions for training\n",
    "\n",
    "# Predicting the Training set results\n",
    "y_pred_train = model.predict(x_train) \n",
    "y_pred_train"
   ]
  },
  {
   "cell_type": "code",
   "execution_count": 37,
   "metadata": {},
   "outputs": [
    {
     "data": {
      "text/plain": [
       "(50000, 75)"
      ]
     },
     "execution_count": 37,
     "metadata": {},
     "output_type": "execute_result"
    }
   ],
   "source": [
    "y_pred_train.shape "
   ]
  },
  {
   "cell_type": "code",
   "execution_count": 38,
   "metadata": {},
   "outputs": [
    {
     "name": "stdout",
     "output_type": "stream",
     "text": [
      "Training Mean Squared error (MSE): 0.02840192654218083\n",
      "Training Root mean squared error (RMSE): 0.16852871132890332\n",
      "Training Mean absolute error (MAE): 0.11481665842686241\n"
     ]
    }
   ],
   "source": [
    "# Evaluating the model # Training error\n",
    "\n",
    "# Measure MSE error  \n",
    "mse_train = metrics.mean_squared_error(y_train, y_pred_train)\n",
    "print(\"Training Mean Squared error (MSE): {}\".format(mse_train))\n",
    "\n",
    "# Measure RMSE error \n",
    "rmse_train = np.sqrt(metrics.mean_squared_error(y_train, y_pred_train))\n",
    "print(\"Training Root mean squared error (RMSE): {}\".format(rmse_train))\n",
    "\n",
    "# Measure MAE error\n",
    "mae_train = metrics.mean_absolute_error(y_train, y_pred_train)\n",
    "print(\"Training Mean absolute error (MAE): {}\".format(mae_train))"
   ]
  },
  {
   "cell_type": "code",
   "execution_count": 39,
   "metadata": {},
   "outputs": [],
   "source": [
    "######################### Constraint verification for test data ##########################"
   ]
  },
  {
   "cell_type": "code",
   "execution_count": 40,
   "metadata": {},
   "outputs": [
    {
     "data": {
      "text/plain": [
       "array([[0.05858873, 0.05854135, 0.05867425, ..., 0.19787106, 0.20223759,\n",
       "        0.19717786],\n",
       "       [0.05858873, 0.05854135, 0.05867425, ..., 0.19787106, 0.20223759,\n",
       "        0.19717786],\n",
       "       [0.05858873, 0.05854135, 0.05867425, ..., 0.19787106, 0.20223759,\n",
       "        0.19717786],\n",
       "       ...,\n",
       "       [0.05858873, 0.05854135, 0.05867425, ..., 0.19787106, 0.20223759,\n",
       "        0.19717786],\n",
       "       [0.05858873, 0.05854135, 0.05867425, ..., 0.19787106, 0.20223759,\n",
       "        0.19717786],\n",
       "       [0.05858873, 0.05854135, 0.05867425, ..., 0.19787106, 0.20223759,\n",
       "        0.19717786]], dtype=float32)"
      ]
     },
     "execution_count": 40,
     "metadata": {},
     "output_type": "execute_result"
    }
   ],
   "source": [
    "y_pred = model.predict(x_test)\n",
    "y_pred"
   ]
  },
  {
   "cell_type": "code",
   "execution_count": 41,
   "metadata": {},
   "outputs": [
    {
     "data": {
      "text/plain": [
       "(50000, 75)"
      ]
     },
     "execution_count": 41,
     "metadata": {},
     "output_type": "execute_result"
    }
   ],
   "source": [
    "y_pred.shape"
   ]
  },
  {
   "cell_type": "code",
   "execution_count": 42,
   "metadata": {},
   "outputs": [
    {
     "data": {
      "text/plain": [
       "array([0.05858873, 0.05854135, 0.05867425, 0.0585578 , 0.05853409,\n",
       "       0.05875232, 0.05878368, 0.05909953, 0.05853726, 0.05859295,\n",
       "       0.05857869, 0.05861074, 0.05863965, 0.05865666, 0.05851621,\n",
       "       0.05854691, 0.05862563, 0.0586074 , 0.05860778, 0.05845178,\n",
       "       0.05847598, 0.05865761, 0.05841406, 0.05868635, 0.05846363,\n",
       "       0.22530937, 0.22634648, 0.22816326, 0.22874215, 0.22115603,\n",
       "       0.2278976 , 0.22730054, 0.22818452, 0.22397286, 0.227113  ,\n",
       "       0.22477585, 0.2260927 , 0.22629157, 0.22128846, 0.21055074,\n",
       "       0.22623748, 0.22408432, 0.22688884, 0.22838503, 0.22052889,\n",
       "       0.22232346, 0.22553492, 0.22673056, 0.22492653, 0.22628239,\n",
       "       0.1996449 , 0.19941027, 0.20028204, 0.19936435, 0.20025012,\n",
       "       0.19875672, 0.19876738, 0.20184556, 0.1988506 , 0.20118435,\n",
       "       0.20360519, 0.19809476, 0.200914  , 0.19835718, 0.19823405,\n",
       "       0.19670509, 0.20121452, 0.19854467, 0.2010203 , 0.20265056,\n",
       "       0.20083235, 0.2009315 , 0.19787106, 0.20223759, 0.19717786],\n",
       "      dtype=float32)"
      ]
     },
     "execution_count": 42,
     "metadata": {},
     "output_type": "execute_result"
    }
   ],
   "source": [
    "y_pred[0] # First row of y_pred"
   ]
  },
  {
   "cell_type": "code",
   "execution_count": 43,
   "metadata": {},
   "outputs": [
    {
     "data": {
      "text/plain": [
       "array([0.05858873, 0.05854135, 0.05867425, 0.0585578 , 0.05853409,\n",
       "       0.05875232, 0.05878368, 0.05909953, 0.05853726, 0.05859295,\n",
       "       0.05857869, 0.05861074, 0.05863965, 0.05865666, 0.05851621,\n",
       "       0.05854691, 0.05862563, 0.0586074 , 0.05860778, 0.05845178,\n",
       "       0.05847598, 0.05865761, 0.05841406, 0.05868635, 0.05846363,\n",
       "       0.22530937, 0.22634648, 0.22816326, 0.22874215, 0.22115603,\n",
       "       0.2278976 , 0.22730054, 0.22818452, 0.22397286, 0.227113  ,\n",
       "       0.22477585, 0.2260927 , 0.22629157, 0.22128846, 0.21055074,\n",
       "       0.22623748, 0.22408432, 0.22688884, 0.22838503, 0.22052889,\n",
       "       0.22232346, 0.22553492, 0.22673056, 0.22492653, 0.22628239,\n",
       "       0.1996449 , 0.19941027, 0.20028204, 0.19936435, 0.20025012,\n",
       "       0.19875672, 0.19876738, 0.20184556, 0.1988506 , 0.20118435,\n",
       "       0.20360519, 0.19809476, 0.200914  , 0.19835718, 0.19823405,\n",
       "       0.19670509, 0.20121452, 0.19854467, 0.2010203 , 0.20265056,\n",
       "       0.20083235, 0.2009315 , 0.19787106, 0.20223759, 0.19717786],\n",
       "      dtype=float32)"
      ]
     },
     "execution_count": 43,
     "metadata": {},
     "output_type": "execute_result"
    }
   ],
   "source": [
    "y_pred[1] # Second row of y_pred"
   ]
  },
  {
   "cell_type": "code",
   "execution_count": 44,
   "metadata": {},
   "outputs": [],
   "source": [
    "# y_pred[:0].shape"
   ]
  },
  {
   "cell_type": "code",
   "execution_count": 45,
   "metadata": {},
   "outputs": [
    {
     "data": {
      "text/plain": [
       "array([[1.34000e-05, 9.94000e-06, 5.43000e-06, ..., 2.97000e-06,\n",
       "        7.15000e-07, 6.68000e-07],\n",
       "       [6.35000e-05, 9.83000e-05, 4.96000e-06, ..., 9.19000e-07,\n",
       "        2.46000e-07, 5.50000e-07],\n",
       "       [1.38836e-04, 4.95000e-06, 2.95000e-05, ..., 3.47000e-05,\n",
       "        3.18000e-05, 3.24000e-07],\n",
       "       ...,\n",
       "       [2.77000e-05, 1.75000e-05, 8.75000e-06, ..., 6.74000e-07,\n",
       "        2.13000e-07, 2.66000e-07],\n",
       "       [5.01000e-06, 4.67000e-05, 5.01000e-06, ..., 3.48000e-07,\n",
       "        2.25000e-07, 2.39000e-07],\n",
       "       [2.11158e-04, 3.82000e-06, 6.01000e-05, ..., 1.14000e-05,\n",
       "        2.85000e-06, 4.67000e-05]])"
      ]
     },
     "execution_count": 45,
     "metadata": {},
     "output_type": "execute_result"
    }
   ],
   "source": [
    "x_test"
   ]
  },
  {
   "cell_type": "code",
   "execution_count": 46,
   "metadata": {},
   "outputs": [
    {
     "data": {
      "text/plain": [
       "(50000, 40)"
      ]
     },
     "execution_count": 46,
     "metadata": {},
     "output_type": "execute_result"
    }
   ],
   "source": [
    "x_test.shape"
   ]
  },
  {
   "cell_type": "code",
   "execution_count": 47,
   "metadata": {},
   "outputs": [
    {
     "data": {
      "text/plain": [
       "array([[0.05858873, 0.05854135, 0.05867425, ..., 0.19787106, 0.20223759,\n",
       "        0.19717786],\n",
       "       [0.05858873, 0.05854135, 0.05867425, ..., 0.19787106, 0.20223759,\n",
       "        0.19717786],\n",
       "       [0.05858873, 0.05854135, 0.05867425, ..., 0.19787106, 0.20223759,\n",
       "        0.19717786],\n",
       "       ...,\n",
       "       [0.05858873, 0.05854135, 0.05867425, ..., 0.19787106, 0.20223759,\n",
       "        0.19717786],\n",
       "       [0.05858873, 0.05854135, 0.05867425, ..., 0.19787106, 0.20223759,\n",
       "        0.19717786],\n",
       "       [0.05858873, 0.05854135, 0.05867425, ..., 0.19787106, 0.20223759,\n",
       "        0.19717786]], dtype=float32)"
      ]
     },
     "execution_count": 47,
     "metadata": {},
     "output_type": "execute_result"
    }
   ],
   "source": [
    "y_conc_new=y_pred\n",
    "y_conc_new"
   ]
  },
  {
   "cell_type": "code",
   "execution_count": 48,
   "metadata": {},
   "outputs": [
    {
     "data": {
      "text/plain": [
       "(50000, 75)"
      ]
     },
     "execution_count": 48,
     "metadata": {},
     "output_type": "execute_result"
    }
   ],
   "source": [
    "y_conc_new.shape"
   ]
  },
  {
   "cell_type": "code",
   "execution_count": 49,
   "metadata": {},
   "outputs": [
    {
     "data": {
      "text/plain": [
       "array([[0.05858873, 0.05854135, 0.05867425, ..., 0.22673056, 0.22492653,\n",
       "        0.22628239],\n",
       "       [0.05858873, 0.05854135, 0.05867425, ..., 0.22673056, 0.22492653,\n",
       "        0.22628239],\n",
       "       [0.05858873, 0.05854135, 0.05867425, ..., 0.22673056, 0.22492653,\n",
       "        0.22628239],\n",
       "       ...,\n",
       "       [0.05858873, 0.05854135, 0.05867425, ..., 0.22673056, 0.22492653,\n",
       "        0.22628239],\n",
       "       [0.05858873, 0.05854135, 0.05867425, ..., 0.22673056, 0.22492653,\n",
       "        0.22628239],\n",
       "       [0.05858873, 0.05854135, 0.05867425, ..., 0.22673056, 0.22492653,\n",
       "        0.22628239]], dtype=float32)"
      ]
     },
     "execution_count": 49,
     "metadata": {},
     "output_type": "execute_result"
    }
   ],
   "source": [
    "ypd_new=y_conc_new[:,0:50] # ypd_new is the first 50 elements of y_conc_new i.e. power assignments\n",
    "ypd_new"
   ]
  },
  {
   "cell_type": "code",
   "execution_count": 50,
   "metadata": {},
   "outputs": [
    {
     "data": {
      "text/plain": [
       "(50000, 50)"
      ]
     },
     "execution_count": 50,
     "metadata": {},
     "output_type": "execute_result"
    }
   ],
   "source": [
    "ypd_new.shape"
   ]
  },
  {
   "cell_type": "code",
   "execution_count": 51,
   "metadata": {},
   "outputs": [
    {
     "data": {
      "text/plain": [
       "array([[0.05858873, 0.05854135, 0.05867425, ..., 0.05841406, 0.05868635,\n",
       "        0.05846363],\n",
       "       [0.05858873, 0.05854135, 0.05867425, ..., 0.05841406, 0.05868635,\n",
       "        0.05846363],\n",
       "       [0.05858873, 0.05854135, 0.05867425, ..., 0.05841406, 0.05868635,\n",
       "        0.05846363],\n",
       "       ...,\n",
       "       [0.05858873, 0.05854135, 0.05867425, ..., 0.05841406, 0.05868635,\n",
       "        0.05846363],\n",
       "       [0.05858873, 0.05854135, 0.05867425, ..., 0.05841406, 0.05868635,\n",
       "        0.05846363],\n",
       "       [0.05858873, 0.05854135, 0.05867425, ..., 0.05841406, 0.05868635,\n",
       "        0.05846363]], dtype=float32)"
      ]
     },
     "execution_count": 51,
     "metadata": {},
     "output_type": "execute_result"
    }
   ],
   "source": [
    "pb=ypd_new[:,0:25] # Initial 25 elements of ypd_new\n",
    "pb"
   ]
  },
  {
   "cell_type": "code",
   "execution_count": 52,
   "metadata": {},
   "outputs": [
    {
     "data": {
      "text/plain": [
       "(50000, 25)"
      ]
     },
     "execution_count": 52,
     "metadata": {},
     "output_type": "execute_result"
    }
   ],
   "source": [
    "pb.shape"
   ]
  },
  {
   "cell_type": "code",
   "execution_count": 53,
   "metadata": {},
   "outputs": [
    {
     "data": {
      "text/plain": [
       "array([[0.22530937, 0.22634648, 0.22816326, ..., 0.22673056, 0.22492653,\n",
       "        0.22628239],\n",
       "       [0.22530937, 0.22634648, 0.22816326, ..., 0.22673056, 0.22492653,\n",
       "        0.22628239],\n",
       "       [0.22530937, 0.22634648, 0.22816326, ..., 0.22673056, 0.22492653,\n",
       "        0.22628239],\n",
       "       ...,\n",
       "       [0.22530937, 0.22634648, 0.22816326, ..., 0.22673056, 0.22492653,\n",
       "        0.22628239],\n",
       "       [0.22530937, 0.22634648, 0.22816326, ..., 0.22673056, 0.22492653,\n",
       "        0.22628239],\n",
       "       [0.22530937, 0.22634648, 0.22816326, ..., 0.22673056, 0.22492653,\n",
       "        0.22628239]], dtype=float32)"
      ]
     },
     "execution_count": 53,
     "metadata": {},
     "output_type": "execute_result"
    }
   ],
   "source": [
    "pd=ypd_new[:,25:50] # Next 25 elements of ypd_new (25th to 50th column)\n",
    "pd"
   ]
  },
  {
   "cell_type": "code",
   "execution_count": 54,
   "metadata": {},
   "outputs": [
    {
     "data": {
      "text/plain": [
       "(50000, 25)"
      ]
     },
     "execution_count": 54,
     "metadata": {},
     "output_type": "execute_result"
    }
   ],
   "source": [
    "pd.shape"
   ]
  },
  {
   "cell_type": "code",
   "execution_count": 55,
   "metadata": {},
   "outputs": [
    {
     "data": {
      "text/plain": [
       "(50000, 25)"
      ]
     },
     "execution_count": 55,
     "metadata": {},
     "output_type": "execute_result"
    }
   ],
   "source": [
    "ybdr_new=y_conc_new[:,50:75] # ybdr_new is the last 25 elements of y_conc_new (channel assignments), which has to be converted in binary\n",
    "ybdr_new.shape"
   ]
  },
  {
   "cell_type": "code",
   "execution_count": 56,
   "metadata": {},
   "outputs": [],
   "source": [
    "# Converting ybdr_new in ybd_binary such that it will have 1 and 0 (5 elements in one sub-group, and total 5 sub-groups)\n",
    "# 5X5=25 elements in ybdr_new\n",
    "# Logic to convert float in Binary:-\n",
    "# Take 5 elements of first sub-group and assign \"1\" to the highest value and rest as \"0\" \n",
    "# and similarly for remaining sub-groups"
   ]
  },
  {
   "cell_type": "code",
   "execution_count": 57,
   "metadata": {},
   "outputs": [
    {
     "data": {
      "text/plain": [
       "array([[0.1996449 , 0.19941027, 0.20028204, ..., 0.19787106, 0.20223759,\n",
       "        0.19717786],\n",
       "       [0.1996449 , 0.19941027, 0.20028204, ..., 0.19787106, 0.20223759,\n",
       "        0.19717786],\n",
       "       [0.1996449 , 0.19941027, 0.20028204, ..., 0.19787106, 0.20223759,\n",
       "        0.19717786],\n",
       "       ...,\n",
       "       [0.1996449 , 0.19941027, 0.20028204, ..., 0.19787106, 0.20223759,\n",
       "        0.19717786],\n",
       "       [0.1996449 , 0.19941027, 0.20028204, ..., 0.19787106, 0.20223759,\n",
       "        0.19717786],\n",
       "       [0.1996449 , 0.19941027, 0.20028204, ..., 0.19787106, 0.20223759,\n",
       "        0.19717786]], dtype=float32)"
      ]
     },
     "execution_count": 57,
     "metadata": {},
     "output_type": "execute_result"
    }
   ],
   "source": [
    "ybdr_new"
   ]
  },
  {
   "cell_type": "code",
   "execution_count": 58,
   "metadata": {},
   "outputs": [
    {
     "data": {
      "text/plain": [
       "array([0.1996449 , 0.19941027, 0.20028204, 0.19936435, 0.20025012,\n",
       "       0.19875672, 0.19876738, 0.20184556, 0.1988506 , 0.20118435,\n",
       "       0.20360519, 0.19809476, 0.200914  , 0.19835718, 0.19823405,\n",
       "       0.19670509, 0.20121452, 0.19854467, 0.2010203 , 0.20265056,\n",
       "       0.20083235, 0.2009315 , 0.19787106, 0.20223759, 0.19717786],\n",
       "      dtype=float32)"
      ]
     },
     "execution_count": 58,
     "metadata": {},
     "output_type": "execute_result"
    }
   ],
   "source": [
    "ybdr_new[0]"
   ]
  },
  {
   "cell_type": "code",
   "execution_count": 59,
   "metadata": {},
   "outputs": [
    {
     "data": {
      "text/plain": [
       "array([0.1996449 , 0.19941027, 0.20028204, 0.19936435, 0.20025012,\n",
       "       0.19875672, 0.19876738, 0.20184556, 0.1988506 , 0.20118435,\n",
       "       0.20360519, 0.19809476, 0.200914  , 0.19835718, 0.19823405,\n",
       "       0.19670509, 0.20121452, 0.19854467, 0.2010203 , 0.20265056,\n",
       "       0.20083235, 0.2009315 , 0.19787106, 0.20223759, 0.19717786],\n",
       "      dtype=float32)"
      ]
     },
     "execution_count": 59,
     "metadata": {},
     "output_type": "execute_result"
    }
   ],
   "source": [
    "ybdr_new[1]"
   ]
  },
  {
   "cell_type": "code",
   "execution_count": 60,
   "metadata": {},
   "outputs": [],
   "source": [
    "# Converting ybdr_new in ybd_binary i.e. converting continuous channel assignments \n",
    "# into binary form based on above logic\n",
    "\n",
    "ybd_binary=[]\n",
    "for rows in ybdr_new:\n",
    "    #print(len(rows))\n",
    "    tempList=[]\n",
    "    maxValue=0\n",
    "    \n",
    "    for j in range(len(rows)):\n",
    "        if j%5==0:\n",
    "            maxValue=max(rows[j:j+5])\n",
    "            #print(j)\n",
    "        if rows[j]==maxValue:\n",
    "            tempList.append(1)\n",
    "        else:\n",
    "            tempList.append(0)\n",
    "            \n",
    "    ybd_binary.append(tempList)"
   ]
  },
  {
   "cell_type": "code",
   "execution_count": 61,
   "metadata": {},
   "outputs": [
    {
     "data": {
      "text/plain": [
       "array([[0, 0, 1, ..., 0, 1, 0],\n",
       "       [0, 0, 1, ..., 0, 1, 0],\n",
       "       [0, 0, 1, ..., 0, 1, 0],\n",
       "       ...,\n",
       "       [0, 0, 1, ..., 0, 1, 0],\n",
       "       [0, 0, 1, ..., 0, 1, 0],\n",
       "       [0, 0, 1, ..., 0, 1, 0]])"
      ]
     },
     "execution_count": 61,
     "metadata": {},
     "output_type": "execute_result"
    }
   ],
   "source": [
    "ybd_binary_array=np.array(ybd_binary) # converting list form of ybd_binary into array form \n",
    "ybd_binary_array"
   ]
  },
  {
   "cell_type": "code",
   "execution_count": 62,
   "metadata": {},
   "outputs": [
    {
     "data": {
      "text/plain": [
       "(50000, 25)"
      ]
     },
     "execution_count": 62,
     "metadata": {},
     "output_type": "execute_result"
    }
   ],
   "source": [
    "ybd_binary_array.shape"
   ]
  },
  {
   "cell_type": "code",
   "execution_count": 63,
   "metadata": {},
   "outputs": [
    {
     "data": {
      "text/plain": [
       "50000"
      ]
     },
     "execution_count": 63,
     "metadata": {},
     "output_type": "execute_result"
    }
   ],
   "source": [
    "len(ybd_binary_array)"
   ]
  },
  {
   "cell_type": "code",
   "execution_count": 64,
   "metadata": {},
   "outputs": [
    {
     "data": {
      "text/plain": [
       "25"
      ]
     },
     "execution_count": 64,
     "metadata": {},
     "output_type": "execute_result"
    }
   ],
   "source": [
    "len(ybd_binary_array[0]) # First row taken"
   ]
  },
  {
   "cell_type": "code",
   "execution_count": 65,
   "metadata": {},
   "outputs": [
    {
     "data": {
      "text/plain": [
       "array([0, 0, 1, 0, 0, 0, 0, 1, 0, 0, 1, 0, 0, 0, 0, 0, 0, 0, 0, 1, 0, 0,\n",
       "       0, 1, 0])"
      ]
     },
     "execution_count": 65,
     "metadata": {},
     "output_type": "execute_result"
    }
   ],
   "source": [
    "ybd_binary_array[0] # First row output i.e. channel assignments"
   ]
  },
  {
   "cell_type": "code",
   "execution_count": 66,
   "metadata": {},
   "outputs": [
    {
     "data": {
      "text/plain": [
       "array([0, 0, 1, 0, 0, 0, 0, 1, 0, 0, 1, 0, 0, 0, 0, 0, 0, 0, 0, 1, 0, 0,\n",
       "       0, 1, 0])"
      ]
     },
     "execution_count": 66,
     "metadata": {},
     "output_type": "execute_result"
    }
   ],
   "source": [
    "ybd_binary_array[1] # Second row output i.e. channel assignments"
   ]
  },
  {
   "cell_type": "code",
   "execution_count": 67,
   "metadata": {},
   "outputs": [
    {
     "name": "stdout",
     "output_type": "stream",
     "text": [
      "13\n",
      "23\n",
      "31\n",
      "45\n",
      "54\n"
     ]
    }
   ],
   "source": [
    "# Finding position of '1' in first row of ybd_binary_array i.e. Beta(i)\n",
    "# Just for example here\n",
    "\n",
    "for i in range (len(ybd_binary_array[0])):  # Here first row taken\n",
    "    if ybd_binary_array[0][i]==1:\n",
    "        subgroup=int((i)/5) +1\n",
    "        ones_position=(i)%5 +1\n",
    "        # print(subgroup)\n",
    "        # print(ones_position)\n",
    "        print(subgroup*10+ones_position)"
   ]
  },
  {
   "cell_type": "code",
   "execution_count": 68,
   "metadata": {},
   "outputs": [],
   "source": [
    "# Taking all row and all columns of PB\n",
    "\n",
    "pb=ypd_new[:,0:25]\n",
    "# pb"
   ]
  },
  {
   "cell_type": "code",
   "execution_count": 69,
   "metadata": {},
   "outputs": [
    {
     "data": {
      "text/plain": [
       "50000"
      ]
     },
     "execution_count": 69,
     "metadata": {},
     "output_type": "execute_result"
    }
   ],
   "source": [
    "len(pb)"
   ]
  },
  {
   "cell_type": "code",
   "execution_count": 70,
   "metadata": {},
   "outputs": [
    {
     "data": {
      "text/plain": [
       "25"
      ]
     },
     "execution_count": 70,
     "metadata": {},
     "output_type": "execute_result"
    }
   ],
   "source": [
    "pb.shape[1]"
   ]
  },
  {
   "cell_type": "code",
   "execution_count": 71,
   "metadata": {},
   "outputs": [
    {
     "data": {
      "text/plain": [
       "array([0.05858873, 0.05854135, 0.05867425, 0.0585578 , 0.05853409,\n",
       "       0.05875232, 0.05878368, 0.05909953, 0.05853726, 0.05859295,\n",
       "       0.05857869, 0.05861074, 0.05863965, 0.05865666, 0.05851621,\n",
       "       0.05854691, 0.05862563, 0.0586074 , 0.05860778, 0.05845178,\n",
       "       0.05847598, 0.05865761, 0.05841406, 0.05868635, 0.05846363],\n",
       "      dtype=float32)"
      ]
     },
     "execution_count": 71,
     "metadata": {},
     "output_type": "execute_result"
    }
   ],
   "source": [
    "pb[0]"
   ]
  },
  {
   "cell_type": "code",
   "execution_count": 72,
   "metadata": {},
   "outputs": [],
   "source": [
    "# Taking all row and all columns of PD\n",
    "\n",
    "pd=ypd_new[:,25:50]\n",
    "# pd"
   ]
  },
  {
   "cell_type": "code",
   "execution_count": 73,
   "metadata": {},
   "outputs": [
    {
     "data": {
      "text/plain": [
       "50000"
      ]
     },
     "execution_count": 73,
     "metadata": {},
     "output_type": "execute_result"
    }
   ],
   "source": [
    "len(pd)"
   ]
  },
  {
   "cell_type": "code",
   "execution_count": 74,
   "metadata": {},
   "outputs": [
    {
     "data": {
      "text/plain": [
       "25"
      ]
     },
     "execution_count": 74,
     "metadata": {},
     "output_type": "execute_result"
    }
   ],
   "source": [
    "pd.shape[1]"
   ]
  },
  {
   "cell_type": "code",
   "execution_count": 75,
   "metadata": {},
   "outputs": [
    {
     "data": {
      "text/plain": [
       "array([0.22530937, 0.22634648, 0.22816326, 0.22874215, 0.22115603,\n",
       "       0.2278976 , 0.22730054, 0.22818452, 0.22397286, 0.227113  ,\n",
       "       0.22477585, 0.2260927 , 0.22629157, 0.22128846, 0.21055074,\n",
       "       0.22623748, 0.22408432, 0.22688884, 0.22838503, 0.22052889,\n",
       "       0.22232346, 0.22553492, 0.22673056, 0.22492653, 0.22628239],\n",
       "      dtype=float32)"
      ]
     },
     "execution_count": 75,
     "metadata": {},
     "output_type": "execute_result"
    }
   ],
   "source": [
    "pd[0]"
   ]
  },
  {
   "cell_type": "code",
   "execution_count": 76,
   "metadata": {},
   "outputs": [],
   "source": [
    "# In input Xd i.e. channel gain file (40 elements are present), initial 5 elements are GBi i.e. GB1,GB2,.....,GB5. \n",
    "# Next 5 elements are GDj i.e. GD1,GD2,....,GD5. Next 5 elements are HBj i.e. HB1,HB2,....,HB5. Next 25 elements are\n",
    "# HCij, which is sub-divided into 5 sub groups namely; HC11,.......,HC15, HC21,.......,HC25, HC31,......,HC35, \n",
    "# HC41,......,HC45 and HC51,........,HC55."
   ]
  },
  {
   "cell_type": "code",
   "execution_count": 77,
   "metadata": {},
   "outputs": [
    {
     "data": {
      "text/plain": [
       "array([[1.34000e-05, 9.94000e-06, 5.43000e-06, ..., 2.97000e-06,\n",
       "        7.15000e-07, 6.68000e-07],\n",
       "       [6.35000e-05, 9.83000e-05, 4.96000e-06, ..., 9.19000e-07,\n",
       "        2.46000e-07, 5.50000e-07],\n",
       "       [1.38836e-04, 4.95000e-06, 2.95000e-05, ..., 3.47000e-05,\n",
       "        3.18000e-05, 3.24000e-07],\n",
       "       ...,\n",
       "       [2.77000e-05, 1.75000e-05, 8.75000e-06, ..., 6.74000e-07,\n",
       "        2.13000e-07, 2.66000e-07],\n",
       "       [5.01000e-06, 4.67000e-05, 5.01000e-06, ..., 3.48000e-07,\n",
       "        2.25000e-07, 2.39000e-07],\n",
       "       [2.11158e-04, 3.82000e-06, 6.01000e-05, ..., 1.14000e-05,\n",
       "        2.85000e-06, 4.67000e-05]])"
      ]
     },
     "execution_count": 77,
     "metadata": {},
     "output_type": "execute_result"
    }
   ],
   "source": [
    "x_test_new=x_test\n",
    "x_test_new"
   ]
  },
  {
   "cell_type": "code",
   "execution_count": 78,
   "metadata": {},
   "outputs": [
    {
     "data": {
      "text/plain": [
       "(50000, 40)"
      ]
     },
     "execution_count": 78,
     "metadata": {},
     "output_type": "execute_result"
    }
   ],
   "source": [
    "x_test_new.shape"
   ]
  },
  {
   "cell_type": "code",
   "execution_count": 79,
   "metadata": {},
   "outputs": [
    {
     "data": {
      "text/plain": [
       "array([1.34000000e-05, 9.94000000e-06, 5.43000000e-06, 5.90000000e-05,\n",
       "       1.35000000e-05, 8.77022450e-02, 4.10030199e+00, 9.28038340e-02,\n",
       "       8.28748045e-01, 5.52862322e-01, 2.06000000e-05, 2.79000000e-05,\n",
       "       1.68000000e-05, 1.99476000e-04, 1.27215000e-04, 5.97000000e-07,\n",
       "       8.01000000e-07, 1.53000000e-06, 6.66000000e-07, 7.49000000e-07,\n",
       "       8.67000000e-06, 3.00000000e-07, 2.26000000e-07, 9.51000000e-07,\n",
       "       3.01000000e-06, 1.16000000e-06, 2.24000000e-07, 2.60000000e-07,\n",
       "       3.30000000e-07, 6.07000000e-07, 2.56000000e-06, 9.71000000e-07,\n",
       "       1.08000000e-06, 1.78000000e-06, 3.57000000e-06, 4.67000000e-07,\n",
       "       1.15000000e-06, 2.97000000e-06, 7.15000000e-07, 6.68000000e-07])"
      ]
     },
     "execution_count": 79,
     "metadata": {},
     "output_type": "execute_result"
    }
   ],
   "source": [
    "x_test_new[0]"
   ]
  },
  {
   "cell_type": "code",
   "execution_count": 80,
   "metadata": {},
   "outputs": [
    {
     "data": {
      "text/plain": [
       "array([[1.34000e-05, 9.94000e-06, 5.43000e-06, 5.90000e-05, 1.35000e-05],\n",
       "       [6.35000e-05, 9.83000e-05, 4.96000e-06, 3.14000e-05, 6.96000e-06],\n",
       "       [1.38836e-04, 4.95000e-06, 2.95000e-05, 3.79000e-06, 6.20000e-05],\n",
       "       ...,\n",
       "       [2.77000e-05, 1.75000e-05, 8.75000e-06, 3.75000e-05, 4.07000e-05],\n",
       "       [5.01000e-06, 4.67000e-05, 5.01000e-06, 1.90000e-05, 4.36000e-06],\n",
       "       [2.11158e-04, 3.82000e-06, 6.01000e-05, 4.27000e-05, 2.83000e-05]])"
      ]
     },
     "execution_count": 80,
     "metadata": {},
     "output_type": "execute_result"
    }
   ],
   "source": [
    "gb=x_test_new[:,0:5] # Taking all rows and initial 5 columns of x_test_new # GB1,GB2,.....,GB5\n",
    "gb"
   ]
  },
  {
   "cell_type": "code",
   "execution_count": 81,
   "metadata": {},
   "outputs": [
    {
     "data": {
      "text/plain": [
       "50000"
      ]
     },
     "execution_count": 81,
     "metadata": {},
     "output_type": "execute_result"
    }
   ],
   "source": [
    "len(gb)"
   ]
  },
  {
   "cell_type": "code",
   "execution_count": 82,
   "metadata": {},
   "outputs": [
    {
     "data": {
      "text/plain": [
       "5"
      ]
     },
     "execution_count": 82,
     "metadata": {},
     "output_type": "execute_result"
    }
   ],
   "source": [
    "gb.shape[1]"
   ]
  },
  {
   "cell_type": "code",
   "execution_count": 83,
   "metadata": {},
   "outputs": [
    {
     "data": {
      "text/plain": [
       "array([1.34e-05, 9.94e-06, 5.43e-06, 5.90e-05, 1.35e-05])"
      ]
     },
     "execution_count": 83,
     "metadata": {},
     "output_type": "execute_result"
    }
   ],
   "source": [
    "gb[0] # First row of gb"
   ]
  },
  {
   "cell_type": "code",
   "execution_count": 84,
   "metadata": {},
   "outputs": [
    {
     "data": {
      "text/plain": [
       "array([[8.77022450e-02, 4.10030199e+00, 9.28038340e-02, 8.28748045e-01,\n",
       "        5.52862322e-01],\n",
       "       [1.81600713e+00, 8.39294960e-02, 9.73210170e-02, 8.68219460e-02,\n",
       "        1.91059933e+00],\n",
       "       [4.07036513e-01, 2.03965251e+00, 6.50158170e-02, 2.57267306e-01,\n",
       "        2.96234576e-01],\n",
       "       ...,\n",
       "       [2.78307398e-01, 5.51473277e-01, 3.04422368e-01, 1.06118243e+00,\n",
       "        9.48972486e-01],\n",
       "       [2.35333815e+01, 1.58353578e+01, 1.34195985e-01, 1.43490074e+05,\n",
       "        5.97103680e-02],\n",
       "       [7.93980620e-02, 7.03281250e-02, 2.94059009e+02, 1.19119705e-01,\n",
       "        1.01518529e-01]])"
      ]
     },
     "execution_count": 84,
     "metadata": {},
     "output_type": "execute_result"
    }
   ],
   "source": [
    "gd=x_test_new[:,5:10] # Taking all rows and columns 6 to 10 of x_test_new # GD1,GD2,....,GD5\n",
    "gd"
   ]
  },
  {
   "cell_type": "code",
   "execution_count": 85,
   "metadata": {},
   "outputs": [
    {
     "data": {
      "text/plain": [
       "(50000, 5)"
      ]
     },
     "execution_count": 85,
     "metadata": {},
     "output_type": "execute_result"
    }
   ],
   "source": [
    "len(gd),gd.shape[1]"
   ]
  },
  {
   "cell_type": "code",
   "execution_count": 86,
   "metadata": {},
   "outputs": [
    {
     "data": {
      "text/plain": [
       "array([0.08770224, 4.10030199, 0.09280383, 0.82874804, 0.55286232])"
      ]
     },
     "execution_count": 86,
     "metadata": {},
     "output_type": "execute_result"
    }
   ],
   "source": [
    "gd[0]"
   ]
  },
  {
   "cell_type": "code",
   "execution_count": 87,
   "metadata": {},
   "outputs": [
    {
     "data": {
      "text/plain": [
       "array([1.81600713, 0.0839295 , 0.09732102, 0.08682195, 1.91059933])"
      ]
     },
     "execution_count": 87,
     "metadata": {},
     "output_type": "execute_result"
    }
   ],
   "source": [
    "gd[1]"
   ]
  },
  {
   "cell_type": "code",
   "execution_count": 88,
   "metadata": {},
   "outputs": [
    {
     "data": {
      "text/plain": [
       "array([0, 0, 1, 0, 0, 0, 0, 1, 0, 0, 1, 0, 0, 0, 0, 0, 0, 0, 0, 1, 0, 0,\n",
       "       0, 1, 0])"
      ]
     },
     "execution_count": 88,
     "metadata": {},
     "output_type": "execute_result"
    }
   ],
   "source": [
    "ybd_binary_array[0]"
   ]
  },
  {
   "cell_type": "code",
   "execution_count": 89,
   "metadata": {},
   "outputs": [
    {
     "data": {
      "text/plain": [
       "50000"
      ]
     },
     "execution_count": 89,
     "metadata": {},
     "output_type": "execute_result"
    }
   ],
   "source": [
    "len(ybd_binary_array)"
   ]
  },
  {
   "cell_type": "code",
   "execution_count": 90,
   "metadata": {},
   "outputs": [
    {
     "data": {
      "text/plain": [
       "25"
      ]
     },
     "execution_count": 90,
     "metadata": {},
     "output_type": "execute_result"
    }
   ],
   "source": [
    "ybd_binary_array.shape[1]"
   ]
  },
  {
   "cell_type": "code",
   "execution_count": 91,
   "metadata": {},
   "outputs": [],
   "source": [
    "# Finding corresponding value of gd where \"1\" is located in ybd_binary_array \n",
    "\n",
    "for i in range(3):  # 20000  # len(ybd_binary_array)\n",
    "#     print(i)\n",
    "    for j in range(ybd_binary_array.shape[1]):  # 25\n",
    "#         print(j)\n",
    "        if ybd_binary_array[i][j]==1:\n",
    "            if j<5:\n",
    "                gd1=gd[i][j]\n",
    "#                 print(gd1)\n",
    "            elif j>=5 and j<10:\n",
    "                gd1=gd[i][(j-5)]\n",
    "#                 print(gd1)\n",
    "            elif j>=10 and j<15:\n",
    "                gd1=gd[i][(j-10)]\n",
    "#                 print(gd1)\n",
    "            elif j>=15 and j<20:\n",
    "                gd1=gd[i][(j-15)]\n",
    "#                 print(gd1)\n",
    "            elif j>=20:\n",
    "                gd1=gd[i][(j-20)]\n",
    "#                 print(gd1)"
   ]
  },
  {
   "cell_type": "code",
   "execution_count": 92,
   "metadata": {},
   "outputs": [
    {
     "data": {
      "text/plain": [
       "array([[2.06000e-05, 2.79000e-05, 1.68000e-05, 1.99476e-04, 1.27215e-04],\n",
       "       [3.03187e-04, 6.95000e-06, 6.01000e-05, 3.10000e-05, 2.85000e-05],\n",
       "       [2.39893e-04, 4.44000e-05, 2.34000e-05, 3.58000e-05, 6.01000e-06],\n",
       "       ...,\n",
       "       [5.54000e-06, 5.23000e-06, 1.27000e-05, 5.30000e-06, 7.02000e-06],\n",
       "       [3.73000e-05, 4.61000e-06, 1.13098e-04, 5.16000e-05, 2.30000e-05],\n",
       "       [1.04000e-05, 8.06000e-06, 9.46000e-05, 3.77000e-05, 6.56000e-05]])"
      ]
     },
     "execution_count": 92,
     "metadata": {},
     "output_type": "execute_result"
    }
   ],
   "source": [
    "hb=x_test_new[:,10:15] # Taking all rows and columns 11 to 15 of x_test_new # HB1,HB2,....,HB5\n",
    "hb"
   ]
  },
  {
   "cell_type": "code",
   "execution_count": 93,
   "metadata": {},
   "outputs": [
    {
     "data": {
      "text/plain": [
       "array([2.06000e-05, 2.79000e-05, 1.68000e-05, 1.99476e-04, 1.27215e-04])"
      ]
     },
     "execution_count": 93,
     "metadata": {},
     "output_type": "execute_result"
    }
   ],
   "source": [
    "hb[0]"
   ]
  },
  {
   "cell_type": "code",
   "execution_count": 94,
   "metadata": {},
   "outputs": [
    {
     "data": {
      "text/plain": [
       "(50000, 5)"
      ]
     },
     "execution_count": 94,
     "metadata": {},
     "output_type": "execute_result"
    }
   ],
   "source": [
    "len(hb),hb.shape[1]"
   ]
  },
  {
   "cell_type": "code",
   "execution_count": 95,
   "metadata": {},
   "outputs": [],
   "source": [
    "# Finding corresponding value of hb where \"1\" is located in ybd_binary_array\n",
    "\n",
    "for i in range(len(ybd_binary_array)):  # 20000\n",
    "    for j in range(ybd_binary_array.shape[1]):  # 25\n",
    "        if ybd_binary_array[i][j]==1:\n",
    "            if j<5:\n",
    "                hb1=hb[i][j]\n",
    "            elif j>=5 and j<10:\n",
    "                hb1=hb[i][(j-5)]\n",
    "            elif j>=10 and j<15:\n",
    "                hb1=hb[i][(j-10)]\n",
    "            elif j>=15 and j<20:\n",
    "                hb1=hb[i][(j-15)]\n",
    "            elif j>=20:\n",
    "                hb1=hb[i][(j-20)]"
   ]
  },
  {
   "cell_type": "code",
   "execution_count": 96,
   "metadata": {},
   "outputs": [
    {
     "data": {
      "text/plain": [
       "array([[5.97000e-07, 8.01000e-07, 1.53000e-06, ..., 2.97000e-06,\n",
       "        7.15000e-07, 6.68000e-07],\n",
       "       [4.61000e-06, 2.20000e-06, 1.47000e-06, ..., 9.19000e-07,\n",
       "        2.46000e-07, 5.50000e-07],\n",
       "       [8.50143e-04, 1.58000e-06, 9.32000e-07, ..., 3.47000e-05,\n",
       "        3.18000e-05, 3.24000e-07],\n",
       "       ...,\n",
       "       [2.22000e-07, 1.85000e-07, 3.41000e-05, ..., 6.74000e-07,\n",
       "        2.13000e-07, 2.66000e-07],\n",
       "       [4.58000e-07, 2.41000e-07, 1.12000e-06, ..., 3.48000e-07,\n",
       "        2.25000e-07, 2.39000e-07],\n",
       "       [2.15000e-06, 5.31000e-07, 2.45000e-06, ..., 1.14000e-05,\n",
       "        2.85000e-06, 4.67000e-05]])"
      ]
     },
     "execution_count": 96,
     "metadata": {},
     "output_type": "execute_result"
    }
   ],
   "source": [
    "hc=x_test_new[:,15:40] # Taking all rows and columns 16 to 40 of x_test_new\n",
    "hc  # HC11,.......,HC15, HC21,.......,HC25, HC31,......,HC35, HC41,......,HC45 and HC51,........,HC55"
   ]
  },
  {
   "cell_type": "code",
   "execution_count": 97,
   "metadata": {},
   "outputs": [
    {
     "data": {
      "text/plain": [
       "(50000, 25)"
      ]
     },
     "execution_count": 97,
     "metadata": {},
     "output_type": "execute_result"
    }
   ],
   "source": [
    "len(hc),hc.shape[1]"
   ]
  },
  {
   "cell_type": "code",
   "execution_count": 98,
   "metadata": {},
   "outputs": [
    {
     "data": {
      "text/plain": [
       "array([5.97e-07, 8.01e-07, 1.53e-06, 6.66e-07, 7.49e-07, 8.67e-06,\n",
       "       3.00e-07, 2.26e-07, 9.51e-07, 3.01e-06, 1.16e-06, 2.24e-07,\n",
       "       2.60e-07, 3.30e-07, 6.07e-07, 2.56e-06, 9.71e-07, 1.08e-06,\n",
       "       1.78e-06, 3.57e-06, 4.67e-07, 1.15e-06, 2.97e-06, 7.15e-07,\n",
       "       6.68e-07])"
      ]
     },
     "execution_count": 98,
     "metadata": {},
     "output_type": "execute_result"
    }
   ],
   "source": [
    "hc[0]"
   ]
  },
  {
   "cell_type": "code",
   "execution_count": 99,
   "metadata": {},
   "outputs": [
    {
     "name": "stdout",
     "output_type": "stream",
     "text": [
      "1.53e-06\n",
      "2.26e-07\n",
      "1.16e-06\n",
      "3.57e-06\n",
      "7.15e-07\n"
     ]
    }
   ],
   "source": [
    "# Finding corresponding value of hc where \"1\" is located in ybd_binary_array\n",
    "\n",
    "for i in range(len(hc)): # 20000\n",
    "    for j in range(hc.shape[1]):  # 25\n",
    "        if ybd_binary_array[i][j]==1:\n",
    "            print(hc[i][j])\n",
    "    break"
   ]
  },
  {
   "cell_type": "code",
   "execution_count": 100,
   "metadata": {},
   "outputs": [
    {
     "data": {
      "text/plain": [
       "array([[1.37464330e-06, 1.84437066e-06, 3.52295519e-06, ...,\n",
       "        6.83867773e-06, 1.64634834e-06, 1.53812684e-06],\n",
       "       [1.06149173e-05, 5.06568720e-06, 3.38480009e-06, ...,\n",
       "        2.11607570e-06, 5.66435933e-07, 1.26642180e-06],\n",
       "       [1.95752660e-03, 3.63808445e-06, 2.14600931e-06, ...,\n",
       "        7.98997027e-05, 7.32222060e-05, 7.46037570e-07],\n",
       "       ...,\n",
       "       [5.11173891e-07, 4.25978242e-07, 7.85181517e-05, ...,\n",
       "        1.55194235e-06, 4.90450625e-07, 6.12487635e-07],\n",
       "       [1.05458397e-06, 5.54923007e-07, 2.57889530e-06, ...,\n",
       "        8.01299612e-07, 5.18081646e-07, 5.50317837e-07],\n",
       "       [4.95055795e-06, 1.22267268e-06, 5.64133348e-06, ...,\n",
       "        2.62494701e-05, 6.56236752e-06, 1.07530724e-04]])"
      ]
     },
     "execution_count": 100,
     "metadata": {},
     "output_type": "execute_result"
    }
   ],
   "source": [
    "epsilon=0.1  \n",
    "\n",
    "hc_inverse_cdf=hc*(-1*math.log(epsilon))\n",
    "hc_inverse_cdf"
   ]
  },
  {
   "cell_type": "code",
   "execution_count": 101,
   "metadata": {},
   "outputs": [
    {
     "data": {
      "text/plain": [
       "(50000, 25)"
      ]
     },
     "execution_count": 101,
     "metadata": {},
     "output_type": "execute_result"
    }
   ],
   "source": [
    "len(hc_inverse_cdf),hc_inverse_cdf.shape[1]"
   ]
  },
  {
   "cell_type": "code",
   "execution_count": 102,
   "metadata": {},
   "outputs": [
    {
     "data": {
      "text/plain": [
       "array([1.37464330e-06, 1.84437066e-06, 3.52295519e-06, 1.53352167e-06,\n",
       "       1.72463623e-06, 1.99634128e-05, 6.90775528e-07, 5.20384231e-07,\n",
       "       2.18975842e-06, 6.93078113e-06, 2.67099871e-06, 5.15779061e-07,\n",
       "       5.98672124e-07, 7.59853081e-07, 1.39766915e-06, 5.89461784e-06,\n",
       "       2.23581013e-06, 2.48679190e-06, 4.09860147e-06, 8.22022878e-06,\n",
       "       1.07530724e-06, 2.64797286e-06, 6.83867773e-06, 1.64634834e-06,\n",
       "       1.53812684e-06])"
      ]
     },
     "execution_count": 102,
     "metadata": {},
     "output_type": "execute_result"
    }
   ],
   "source": [
    "hc_inverse_cdf[0]"
   ]
  },
  {
   "cell_type": "code",
   "execution_count": 103,
   "metadata": {},
   "outputs": [
    {
     "name": "stdout",
     "output_type": "stream",
     "text": [
      "3.5229551922808893e-06\n",
      "5.203842310166543e-07\n",
      "2.6709987078730923e-06\n",
      "8.220228781988743e-06\n",
      "1.6463483414907427e-06\n"
     ]
    }
   ],
   "source": [
    "# Finding corresponding value of hc_inverse_cdf where \"1\" is located in ybd_binary_array # correct\n",
    "\n",
    "for i in range(len(hc_inverse_cdf)): # 20000\n",
    "    for j in range(hc_inverse_cdf.shape[1]):  # 25\n",
    "        if ybd_binary_array[i][j]==1:\n",
    "            print(hc_inverse_cdf[i][j])\n",
    "    break"
   ]
  },
  {
   "cell_type": "code",
   "execution_count": 104,
   "metadata": {},
   "outputs": [
    {
     "name": "stdout",
     "output_type": "stream",
     "text": [
      "1413671.1172321825\n"
     ]
    }
   ],
   "source": [
    "# Constraint 1 and 2 verification for each subgroup i.e. (constraint (1(d) and 1(e)) (For Test data)\n",
    "# Putting all value in a single cell to calculate SINR\n",
    "\n",
    "NO=1.19*(10**-6)\n",
    "C_min=1.25892541179416\n",
    "D_min=1.25892541179416\n",
    "\n",
    "pb=ypd_new[:,0:25]\n",
    "pd=ypd_new[:,25:50]\n",
    "B=y_conc_new[:,50:75]\n",
    "gb=x_test_new[:,0:5]\n",
    "gd=x_test_new[:,5:10]\n",
    "hb=x_test_new[:,10:15]\n",
    "\n",
    "epsilon=0.3679\n",
    "hc=x_test_new[:,15:40]\n",
    "hc_inverse_cdf=hc*(-1*math.log(epsilon))\n",
    "\n",
    "scaling_factor_pb=100                 # See DPB.csv file\n",
    "scaling_factor_pd=12.5892541179416    # See DPD.csv file\n",
    "\n",
    "pb_scaled=scaling_factor_pb*(pb)\n",
    "pd_scaled=scaling_factor_pd*(pd)\n",
    "\n",
    "count_constraint1_satisfied=0\n",
    "count_constraint1_not_satisfied=0\n",
    "\n",
    "count_constraint2_satisfied=0\n",
    "count_constraint2_not_satisfied=0\n",
    "\n",
    "sm_BW=np.zeros(len(B))\n",
    "B_binary_array=[]\n",
    "for rows in B:\n",
    "    #print(len(rows))\n",
    "    tempList=[]\n",
    "    maxValue=0\n",
    "    \n",
    "    for j in range(len(rows)):\n",
    "        if j%5==0:\n",
    "            maxValue=max(rows[j:j+5])\n",
    "            #print(j)\n",
    "        if rows[j]==maxValue:\n",
    "            tempList.append(1)\n",
    "        else:\n",
    "            tempList.append(0)\n",
    "            \n",
    "    B_binary_array.append(tempList)\n",
    "\n",
    "for i in range (len(B)): # 20000 # ybd_binary_array\n",
    "    for j in range (B.shape[1]): # 25  # ybd_binary_array\n",
    "        if B_binary_array[i][j]==1:  # ybd_binary_array\n",
    "            if j<5:\n",
    "                gb1=gb[i][0]\n",
    "                gd1=gd[i][j] \n",
    "                hb1=hb[i][j]\n",
    "            elif j>=5 and j<10:\n",
    "                gb1=gb[i][1]\n",
    "                gd1=gd[i][j-5]\n",
    "                hb1=hb[i][j-5]\n",
    "            elif j>=10 and j<15:\n",
    "                gb1=gb[i][2]\n",
    "                gd1=gd[i][j-10]\n",
    "                hb1=hb[i][j-10]\n",
    "            elif j>=15 and j<20:\n",
    "                gb1=gb[i][3]\n",
    "                gd1=gd[i][j-15]\n",
    "                hb1=hb[i][j-15]\n",
    "            elif j>=20:\n",
    "                gb1=gb[i][4]\n",
    "                gd1=gd[i][j-20]\n",
    "                hb1=hb[i][j-20]\n",
    "                \n",
    "            ############## SINR for constraint 1(d) \n",
    "            SINR_D=((pb_scaled[i][j]*gb1)/(NO+(pd_scaled[i][j]*hc_inverse_cdf[i][j]))) # To use scaled pb and pd\n",
    "#             print(SINR_D)\n",
    "            sm1=math.log2(1+SINR_D)  # sm- sum-rate for contraint 1(d)\n",
    "#             print(sm1)\n",
    "\n",
    "            if SINR_D>=C_min:\n",
    "                count_constraint1_satisfied=count_constraint1_satisfied+1\n",
    "#                 print(\"constraint1 satisfied\")\n",
    "            else: \n",
    "                count_constraint1_not_satisfied=count_constraint1_not_satisfied+1\n",
    "#                 print(\"constraint1 not satisfied\")\n",
    "\n",
    "            ############## SINR for constraint 1(e)\n",
    "            SINR_E=((pd_scaled[i][j]*gd1)/(NO+(pb_scaled[i][j]*hb1)))  # To use scaled pb and pd\n",
    "#             print(SINR_E)\n",
    "            sm2=math.log2(1+SINR_E)  # sm- sum-rate for contraint 1(e)\n",
    "#             print(sm2)\n",
    "\n",
    "            if SINR_E>=D_min:\n",
    "                count_constraint2_satisfied=count_constraint2_satisfied+1\n",
    "#                 print(\"constraint2 satisfied\")\n",
    "            else: \n",
    "                count_constraint2_not_satisfied=count_constraint2_not_satisfied+1\n",
    "#                 print(\"constraint2 not satisfied\")\n",
    "\n",
    "            ########## Sum-rate calculation\n",
    "            BW=15000  # Band-width\n",
    "            sm_tot=sm1+sm2 # total sum-rate\n",
    "#             print(sm_tot)\n",
    "            sm_BW[i]=sm_BW[i]+BW*sm_tot\n",
    "#             print(sm_BW) \n",
    "sm_avg_test=np.mean(sm_BW) # average sum-rate\n",
    "print(sm_avg_test)"
   ]
  },
  {
   "cell_type": "code",
   "execution_count": 105,
   "metadata": {},
   "outputs": [
    {
     "data": {
      "text/plain": [
       "1413671.1172321825"
      ]
     },
     "execution_count": 105,
     "metadata": {},
     "output_type": "execute_result"
    }
   ],
   "source": [
    "sm_avg_test"
   ]
  },
  {
   "cell_type": "code",
   "execution_count": 106,
   "metadata": {},
   "outputs": [
    {
     "data": {
      "text/plain": [
       "241411"
      ]
     },
     "execution_count": 106,
     "metadata": {},
     "output_type": "execute_result"
    }
   ],
   "source": [
    "count_constraint1_satisfied"
   ]
  },
  {
   "cell_type": "code",
   "execution_count": 107,
   "metadata": {},
   "outputs": [
    {
     "data": {
      "text/plain": [
       "8589"
      ]
     },
     "execution_count": 107,
     "metadata": {},
     "output_type": "execute_result"
    }
   ],
   "source": [
    "count_constraint1_not_satisfied"
   ]
  },
  {
   "cell_type": "code",
   "execution_count": 108,
   "metadata": {},
   "outputs": [
    {
     "data": {
      "text/plain": [
       "96.56439999999999"
      ]
     },
     "execution_count": 108,
     "metadata": {},
     "output_type": "execute_result"
    }
   ],
   "source": [
    "Perc_of_test_constraint1_satisfied=(count_constraint1_satisfied/(count_constraint1_satisfied+count_constraint1_not_satisfied))*100\n",
    "Perc_of_test_constraint1_satisfied"
   ]
  },
  {
   "cell_type": "code",
   "execution_count": 109,
   "metadata": {},
   "outputs": [
    {
     "data": {
      "text/plain": [
       "3.435600000000008"
      ]
     },
     "execution_count": 109,
     "metadata": {},
     "output_type": "execute_result"
    }
   ],
   "source": [
    "Perc_of_test_constraint1_not_satisfied=100-Perc_of_test_constraint1_satisfied\n",
    "Perc_of_test_constraint1_not_satisfied"
   ]
  },
  {
   "cell_type": "code",
   "execution_count": 110,
   "metadata": {},
   "outputs": [
    {
     "data": {
      "text/plain": [
       "250000"
      ]
     },
     "execution_count": 110,
     "metadata": {},
     "output_type": "execute_result"
    }
   ],
   "source": [
    "count_constraint2_satisfied"
   ]
  },
  {
   "cell_type": "code",
   "execution_count": 111,
   "metadata": {},
   "outputs": [
    {
     "data": {
      "text/plain": [
       "0"
      ]
     },
     "execution_count": 111,
     "metadata": {},
     "output_type": "execute_result"
    }
   ],
   "source": [
    "count_constraint2_not_satisfied"
   ]
  },
  {
   "cell_type": "code",
   "execution_count": 112,
   "metadata": {},
   "outputs": [
    {
     "data": {
      "text/plain": [
       "100.0"
      ]
     },
     "execution_count": 112,
     "metadata": {},
     "output_type": "execute_result"
    }
   ],
   "source": [
    "Perc_of_test_constraint2_satisfied=(count_constraint2_satisfied/(count_constraint2_satisfied+count_constraint2_not_satisfied))*100\n",
    "Perc_of_test_constraint2_satisfied"
   ]
  },
  {
   "cell_type": "code",
   "execution_count": 113,
   "metadata": {},
   "outputs": [
    {
     "data": {
      "text/plain": [
       "0.0"
      ]
     },
     "execution_count": 113,
     "metadata": {},
     "output_type": "execute_result"
    }
   ],
   "source": [
    "Perc_of_test_constraint2_not_satisfied=100-Perc_of_test_constraint2_satisfied\n",
    "Perc_of_test_constraint2_not_satisfied"
   ]
  },
  {
   "cell_type": "code",
   "execution_count": 114,
   "metadata": {},
   "outputs": [],
   "source": [
    "####################################### Constraint Verification for Training data ####################################"
   ]
  },
  {
   "cell_type": "code",
   "execution_count": 115,
   "metadata": {},
   "outputs": [
    {
     "data": {
      "text/plain": [
       "array([[0.05858873, 0.05854135, 0.05867425, ..., 0.19787106, 0.20223759,\n",
       "        0.19717786],\n",
       "       [0.05858873, 0.05854135, 0.05867425, ..., 0.19787106, 0.20223759,\n",
       "        0.19717786],\n",
       "       [0.05858873, 0.05854135, 0.05867425, ..., 0.19787106, 0.20223759,\n",
       "        0.19717786],\n",
       "       ...,\n",
       "       [0.05858873, 0.05854135, 0.05867425, ..., 0.19787106, 0.20223759,\n",
       "        0.19717786],\n",
       "       [0.05858873, 0.05854135, 0.05867425, ..., 0.19787106, 0.20223759,\n",
       "        0.19717786],\n",
       "       [0.05858873, 0.05854135, 0.05867425, ..., 0.19787106, 0.20223759,\n",
       "        0.19717786]], dtype=float32)"
      ]
     },
     "execution_count": 115,
     "metadata": {},
     "output_type": "execute_result"
    }
   ],
   "source": [
    "y_pred_train = model.predict(x_train) \n",
    "y_pred_train"
   ]
  },
  {
   "cell_type": "code",
   "execution_count": 116,
   "metadata": {},
   "outputs": [
    {
     "data": {
      "text/plain": [
       "(50000, 75)"
      ]
     },
     "execution_count": 116,
     "metadata": {},
     "output_type": "execute_result"
    }
   ],
   "source": [
    "y_pred_train.shape"
   ]
  },
  {
   "cell_type": "code",
   "execution_count": 117,
   "metadata": {},
   "outputs": [
    {
     "data": {
      "text/plain": [
       "array([[2.07000e-05, 8.70000e-05, 5.42000e-06, ..., 1.53000e-06,\n",
       "        5.95000e-06, 8.48000e-07],\n",
       "       [5.94000e-06, 5.00000e-06, 4.46000e-06, ..., 3.84000e-06,\n",
       "        4.13000e-07, 3.59000e-07],\n",
       "       [2.48000e-05, 3.76000e-05, 4.85000e-06, ..., 2.76000e-07,\n",
       "        3.38000e-07, 1.26000e-05],\n",
       "       ...,\n",
       "       [2.94322e-04, 2.54061e-04, 3.98000e-06, ..., 8.33000e-07,\n",
       "        1.52000e-07, 2.85000e-07],\n",
       "       [5.95000e-05, 3.95000e-06, 2.72000e-05, ..., 2.81000e-06,\n",
       "        6.66000e-07, 9.19000e-07],\n",
       "       [1.42721e-04, 8.10000e-06, 4.25000e-05, ..., 9.52000e-07,\n",
       "        4.24000e-06, 9.48000e-07]])"
      ]
     },
     "execution_count": 117,
     "metadata": {},
     "output_type": "execute_result"
    }
   ],
   "source": [
    "x_train"
   ]
  },
  {
   "cell_type": "code",
   "execution_count": 118,
   "metadata": {},
   "outputs": [
    {
     "data": {
      "text/plain": [
       "(50000, 40)"
      ]
     },
     "execution_count": 118,
     "metadata": {},
     "output_type": "execute_result"
    }
   ],
   "source": [
    "x_train.shape"
   ]
  },
  {
   "cell_type": "code",
   "execution_count": 119,
   "metadata": {},
   "outputs": [
    {
     "data": {
      "text/plain": [
       "array([[0.05858873, 0.05854135, 0.05867425, ..., 0.19787106, 0.20223759,\n",
       "        0.19717786],\n",
       "       [0.05858873, 0.05854135, 0.05867425, ..., 0.19787106, 0.20223759,\n",
       "        0.19717786],\n",
       "       [0.05858873, 0.05854135, 0.05867425, ..., 0.19787106, 0.20223759,\n",
       "        0.19717786],\n",
       "       ...,\n",
       "       [0.05858873, 0.05854135, 0.05867425, ..., 0.19787106, 0.20223759,\n",
       "        0.19717786],\n",
       "       [0.05858873, 0.05854135, 0.05867425, ..., 0.19787106, 0.20223759,\n",
       "        0.19717786],\n",
       "       [0.05858873, 0.05854135, 0.05867425, ..., 0.19787106, 0.20223759,\n",
       "        0.19717786]], dtype=float32)"
      ]
     },
     "execution_count": 119,
     "metadata": {},
     "output_type": "execute_result"
    }
   ],
   "source": [
    "y_conc_train_new=y_pred_train\n",
    "y_conc_train_new"
   ]
  },
  {
   "cell_type": "code",
   "execution_count": 120,
   "metadata": {},
   "outputs": [
    {
     "data": {
      "text/plain": [
       "(50000, 75)"
      ]
     },
     "execution_count": 120,
     "metadata": {},
     "output_type": "execute_result"
    }
   ],
   "source": [
    "y_conc_train_new.shape"
   ]
  },
  {
   "cell_type": "code",
   "execution_count": 121,
   "metadata": {},
   "outputs": [
    {
     "data": {
      "text/plain": [
       "array([[0.05858873, 0.05854135, 0.05867425, ..., 0.22673056, 0.22492653,\n",
       "        0.22628239],\n",
       "       [0.05858873, 0.05854135, 0.05867425, ..., 0.22673056, 0.22492653,\n",
       "        0.22628239],\n",
       "       [0.05858873, 0.05854135, 0.05867425, ..., 0.22673056, 0.22492653,\n",
       "        0.22628239],\n",
       "       ...,\n",
       "       [0.05858873, 0.05854135, 0.05867425, ..., 0.22673056, 0.22492653,\n",
       "        0.22628239],\n",
       "       [0.05858873, 0.05854135, 0.05867425, ..., 0.22673056, 0.22492653,\n",
       "        0.22628239],\n",
       "       [0.05858873, 0.05854135, 0.05867425, ..., 0.22673056, 0.22492653,\n",
       "        0.22628239]], dtype=float32)"
      ]
     },
     "execution_count": 121,
     "metadata": {},
     "output_type": "execute_result"
    }
   ],
   "source": [
    "ypd_train_new=y_conc_train_new[:,0:50] # ypd_train_new is the first 50 elements of y_conc_train_new\n",
    "ypd_train_new"
   ]
  },
  {
   "cell_type": "code",
   "execution_count": 122,
   "metadata": {},
   "outputs": [
    {
     "data": {
      "text/plain": [
       "(50000, 50)"
      ]
     },
     "execution_count": 122,
     "metadata": {},
     "output_type": "execute_result"
    }
   ],
   "source": [
    "ypd_train_new.shape"
   ]
  },
  {
   "cell_type": "code",
   "execution_count": 123,
   "metadata": {},
   "outputs": [
    {
     "data": {
      "text/plain": [
       "array([[0.05858873, 0.05854135, 0.05867425, ..., 0.05841406, 0.05868635,\n",
       "        0.05846363],\n",
       "       [0.05858873, 0.05854135, 0.05867425, ..., 0.05841406, 0.05868635,\n",
       "        0.05846363],\n",
       "       [0.05858873, 0.05854135, 0.05867425, ..., 0.05841406, 0.05868635,\n",
       "        0.05846363],\n",
       "       ...,\n",
       "       [0.05858873, 0.05854135, 0.05867425, ..., 0.05841406, 0.05868635,\n",
       "        0.05846363],\n",
       "       [0.05858873, 0.05854135, 0.05867425, ..., 0.05841406, 0.05868635,\n",
       "        0.05846363],\n",
       "       [0.05858873, 0.05854135, 0.05867425, ..., 0.05841406, 0.05868635,\n",
       "        0.05846363]], dtype=float32)"
      ]
     },
     "execution_count": 123,
     "metadata": {},
     "output_type": "execute_result"
    }
   ],
   "source": [
    "pb=ypd_train_new[:,0:25] # Initial 25 elements of ypd_train_new\n",
    "pb"
   ]
  },
  {
   "cell_type": "code",
   "execution_count": 124,
   "metadata": {},
   "outputs": [
    {
     "data": {
      "text/plain": [
       "(50000, 25)"
      ]
     },
     "execution_count": 124,
     "metadata": {},
     "output_type": "execute_result"
    }
   ],
   "source": [
    "pb.shape"
   ]
  },
  {
   "cell_type": "code",
   "execution_count": 125,
   "metadata": {},
   "outputs": [
    {
     "data": {
      "text/plain": [
       "array([[0.22530937, 0.22634648, 0.22816326, ..., 0.22673056, 0.22492653,\n",
       "        0.22628239],\n",
       "       [0.22530937, 0.22634648, 0.22816326, ..., 0.22673056, 0.22492653,\n",
       "        0.22628239],\n",
       "       [0.22530937, 0.22634648, 0.22816326, ..., 0.22673056, 0.22492653,\n",
       "        0.22628239],\n",
       "       ...,\n",
       "       [0.22530937, 0.22634648, 0.22816326, ..., 0.22673056, 0.22492653,\n",
       "        0.22628239],\n",
       "       [0.22530937, 0.22634648, 0.22816326, ..., 0.22673056, 0.22492653,\n",
       "        0.22628239],\n",
       "       [0.22530937, 0.22634648, 0.22816326, ..., 0.22673056, 0.22492653,\n",
       "        0.22628239]], dtype=float32)"
      ]
     },
     "execution_count": 125,
     "metadata": {},
     "output_type": "execute_result"
    }
   ],
   "source": [
    "pd=ypd_train_new[:,25:50] # Next 25 elements of ypd_train_new (25th to 50th column)\n",
    "pd"
   ]
  },
  {
   "cell_type": "code",
   "execution_count": 126,
   "metadata": {},
   "outputs": [
    {
     "data": {
      "text/plain": [
       "(50000, 25)"
      ]
     },
     "execution_count": 126,
     "metadata": {},
     "output_type": "execute_result"
    }
   ],
   "source": [
    "pd.shape"
   ]
  },
  {
   "cell_type": "code",
   "execution_count": 127,
   "metadata": {},
   "outputs": [
    {
     "data": {
      "text/plain": [
       "(50000, 25)"
      ]
     },
     "execution_count": 127,
     "metadata": {},
     "output_type": "execute_result"
    }
   ],
   "source": [
    "ybdr_train_new=y_conc_train_new[:,50:75] # ybdr_train_new is the last 25 elements of y_conc_train_new, which has to be converted in binary\n",
    "ybdr_train_new.shape"
   ]
  },
  {
   "cell_type": "code",
   "execution_count": 128,
   "metadata": {},
   "outputs": [],
   "source": [
    "# Converting ybdr_train_new in ybd_train_binary such that it will have 1 and 0 (as per previous logic)"
   ]
  },
  {
   "cell_type": "code",
   "execution_count": 129,
   "metadata": {},
   "outputs": [],
   "source": [
    "# ybdr_train_new"
   ]
  },
  {
   "cell_type": "code",
   "execution_count": 130,
   "metadata": {},
   "outputs": [
    {
     "data": {
      "text/plain": [
       "array([0.1996449 , 0.19941027, 0.20028204, 0.19936435, 0.20025012,\n",
       "       0.19875672, 0.19876738, 0.20184556, 0.1988506 , 0.20118435,\n",
       "       0.20360519, 0.19809476, 0.200914  , 0.19835718, 0.19823405,\n",
       "       0.19670509, 0.20121452, 0.19854467, 0.2010203 , 0.20265056,\n",
       "       0.20083235, 0.2009315 , 0.19787106, 0.20223759, 0.19717786],\n",
       "      dtype=float32)"
      ]
     },
     "execution_count": 130,
     "metadata": {},
     "output_type": "execute_result"
    }
   ],
   "source": [
    "ybdr_train_new[0]"
   ]
  },
  {
   "cell_type": "code",
   "execution_count": 131,
   "metadata": {},
   "outputs": [],
   "source": [
    "# Converting ybdr_train_new in ybd_train_binary i.e. converting continuous channel assignments \n",
    "# in binary form based on previous logic\n",
    "\n",
    "ybd_train_binary=[]\n",
    "for rows in ybdr_train_new:\n",
    "    #print(len(rows))\n",
    "    tempList=[]\n",
    "    maxValue=0\n",
    "    \n",
    "    for j in range(len(rows)):\n",
    "        if j%5==0:\n",
    "            maxValue=max(rows[j:j+5])\n",
    "            #print(j)\n",
    "        if rows[j]==maxValue:\n",
    "            tempList.append(1)\n",
    "        else:\n",
    "            tempList.append(0)\n",
    "            \n",
    "    ybd_train_binary.append(tempList)"
   ]
  },
  {
   "cell_type": "code",
   "execution_count": 132,
   "metadata": {},
   "outputs": [
    {
     "data": {
      "text/plain": [
       "array([[0, 0, 1, ..., 0, 1, 0],\n",
       "       [0, 0, 1, ..., 0, 1, 0],\n",
       "       [0, 0, 1, ..., 0, 1, 0],\n",
       "       ...,\n",
       "       [0, 0, 1, ..., 0, 1, 0],\n",
       "       [0, 0, 1, ..., 0, 1, 0],\n",
       "       [0, 0, 1, ..., 0, 1, 0]])"
      ]
     },
     "execution_count": 132,
     "metadata": {},
     "output_type": "execute_result"
    }
   ],
   "source": [
    "ybd_train_binary_array=np.array(ybd_train_binary) # converting list form of ybd_train_binary in array form \n",
    "ybd_train_binary_array"
   ]
  },
  {
   "cell_type": "code",
   "execution_count": 133,
   "metadata": {},
   "outputs": [
    {
     "data": {
      "text/plain": [
       "(50000, 25)"
      ]
     },
     "execution_count": 133,
     "metadata": {},
     "output_type": "execute_result"
    }
   ],
   "source": [
    "ybd_train_binary_array.shape"
   ]
  },
  {
   "cell_type": "code",
   "execution_count": 134,
   "metadata": {},
   "outputs": [
    {
     "data": {
      "text/plain": [
       "array([0, 0, 1, 0, 0, 0, 0, 1, 0, 0, 1, 0, 0, 0, 0, 0, 0, 0, 0, 1, 0, 0,\n",
       "       0, 1, 0])"
      ]
     },
     "execution_count": 134,
     "metadata": {},
     "output_type": "execute_result"
    }
   ],
   "source": [
    "ybd_train_binary_array[0] # First row output i.e. channel assignments # correct"
   ]
  },
  {
   "cell_type": "code",
   "execution_count": 135,
   "metadata": {},
   "outputs": [
    {
     "name": "stdout",
     "output_type": "stream",
     "text": [
      "13\n",
      "23\n",
      "31\n",
      "45\n",
      "54\n"
     ]
    }
   ],
   "source": [
    "# Finding position of '1' in first row of ybd_train_binary_array i.e. Beta(i)\n",
    "# Just for example here\n",
    "\n",
    "for i in range (len(ybd_train_binary_array[0])):  # Here first row taken\n",
    "    if ybd_train_binary_array[0][i]==1:\n",
    "        subgroup=int((i)/5) +1\n",
    "        ones_position=(i)%5 +1\n",
    "        # print(subgroup)\n",
    "        # print(ones_position)\n",
    "        print(subgroup*10+ones_position)"
   ]
  },
  {
   "cell_type": "code",
   "execution_count": 136,
   "metadata": {},
   "outputs": [],
   "source": [
    "# Taking all row and all columns of PB\n",
    "pb=ypd_train_new[:,0:25]\n",
    "# pb.shape[1], len(pb)"
   ]
  },
  {
   "cell_type": "code",
   "execution_count": 137,
   "metadata": {},
   "outputs": [],
   "source": [
    "# Finding value of pd where \"1\" is present in ybd_train_binary_array (for all rows here)\n",
    "\n",
    "pd=ypd_train_new[:,25:50]\n",
    "# pd"
   ]
  },
  {
   "cell_type": "code",
   "execution_count": 138,
   "metadata": {},
   "outputs": [
    {
     "data": {
      "text/plain": [
       "(50000, 25)"
      ]
     },
     "execution_count": 138,
     "metadata": {},
     "output_type": "execute_result"
    }
   ],
   "source": [
    "len(pd), pd.shape[1]"
   ]
  },
  {
   "cell_type": "code",
   "execution_count": 139,
   "metadata": {},
   "outputs": [],
   "source": [
    "# In input Xd i.e. channel gain file (40 elements are present), initial 5 elements are GBi i.e. GB1,GB2,.....,GB5. \n",
    "# Next 5 elements are GDj i.e. GD1,GD2,....,GD5. Next 5 elements are HBj i.e. HB1,HB2,....,HB5. Next 25 elements are\n",
    "# HCij, which is sub-divided into 5 sub groups namely; HC11,.......,HC15, HC21,.......,HC25, HC31,......,HC35, \n",
    "# HC41,......,HC45 and HC51,........,HC55."
   ]
  },
  {
   "cell_type": "code",
   "execution_count": 140,
   "metadata": {},
   "outputs": [
    {
     "data": {
      "text/plain": [
       "array([[2.07000e-05, 8.70000e-05, 5.42000e-06, ..., 1.53000e-06,\n",
       "        5.95000e-06, 8.48000e-07],\n",
       "       [5.94000e-06, 5.00000e-06, 4.46000e-06, ..., 3.84000e-06,\n",
       "        4.13000e-07, 3.59000e-07],\n",
       "       [2.48000e-05, 3.76000e-05, 4.85000e-06, ..., 2.76000e-07,\n",
       "        3.38000e-07, 1.26000e-05],\n",
       "       ...,\n",
       "       [2.94322e-04, 2.54061e-04, 3.98000e-06, ..., 8.33000e-07,\n",
       "        1.52000e-07, 2.85000e-07],\n",
       "       [5.95000e-05, 3.95000e-06, 2.72000e-05, ..., 2.81000e-06,\n",
       "        6.66000e-07, 9.19000e-07],\n",
       "       [1.42721e-04, 8.10000e-06, 4.25000e-05, ..., 9.52000e-07,\n",
       "        4.24000e-06, 9.48000e-07]])"
      ]
     },
     "execution_count": 140,
     "metadata": {},
     "output_type": "execute_result"
    }
   ],
   "source": [
    "x_train_new=x_train\n",
    "x_train_new"
   ]
  },
  {
   "cell_type": "code",
   "execution_count": 141,
   "metadata": {},
   "outputs": [
    {
     "data": {
      "text/plain": [
       "array([[2.07000e-05, 8.70000e-05, 5.42000e-06, 5.91000e-06, 2.02000e-05],\n",
       "       [5.94000e-06, 5.00000e-06, 4.46000e-06, 3.07000e-05, 3.25000e-05],\n",
       "       [2.48000e-05, 3.76000e-05, 4.85000e-06, 1.78119e-04, 1.39000e-05],\n",
       "       ...,\n",
       "       [2.94322e-04, 2.54061e-04, 3.98000e-06, 3.55000e-05, 7.99000e-06],\n",
       "       [5.95000e-05, 3.95000e-06, 2.72000e-05, 1.95387e-04, 3.17399e-04],\n",
       "       [1.42721e-04, 8.10000e-06, 4.25000e-05, 2.31000e-05, 7.40000e-05]])"
      ]
     },
     "execution_count": 141,
     "metadata": {},
     "output_type": "execute_result"
    }
   ],
   "source": [
    "gb=x_train_new[:,0:5] # Taking all rows and initial 5 columns of x_train_new # GB1,GB2,.....,GB5\n",
    "gb"
   ]
  },
  {
   "cell_type": "code",
   "execution_count": 142,
   "metadata": {},
   "outputs": [
    {
     "data": {
      "text/plain": [
       "(50000, 5)"
      ]
     },
     "execution_count": 142,
     "metadata": {},
     "output_type": "execute_result"
    }
   ],
   "source": [
    "len(gb), gb.shape[1]"
   ]
  },
  {
   "cell_type": "code",
   "execution_count": 143,
   "metadata": {},
   "outputs": [
    {
     "data": {
      "text/plain": [
       "array([[3.79948667e+00, 8.26919620e-02, 4.55587727e+00, 7.34052280e-02,\n",
       "        1.06689306e-01],\n",
       "       [2.57381780e-01, 3.58181204e-01, 1.92514578e-01, 1.10031283e-01,\n",
       "        2.25654919e-01],\n",
       "       [5.88847850e-02, 1.02257726e+01, 6.85026330e-02, 2.20606225e-01,\n",
       "        4.86874602e+00],\n",
       "       ...,\n",
       "       [9.07958090e-02, 7.96055470e-02, 4.33902675e-01, 2.18709810e-01,\n",
       "        8.61722080e-02],\n",
       "       [2.13373129e+00, 9.07773216e-01, 1.16863812e-01, 1.66591159e-01,\n",
       "        1.77600570e+01],\n",
       "       [9.14656344e-01, 6.79360150e-02, 8.54795894e+01, 6.62925933e-01,\n",
       "        6.32941730e-02]])"
      ]
     },
     "execution_count": 143,
     "metadata": {},
     "output_type": "execute_result"
    }
   ],
   "source": [
    "gd=x_train_new[:,5:10] # Taking all rows and columns 6 to 10 of x_train_new # GD1,GD2,....,GD5\n",
    "gd"
   ]
  },
  {
   "cell_type": "code",
   "execution_count": 144,
   "metadata": {},
   "outputs": [
    {
     "data": {
      "text/plain": [
       "(50000, 5)"
      ]
     },
     "execution_count": 144,
     "metadata": {},
     "output_type": "execute_result"
    }
   ],
   "source": [
    "len(gd),gd.shape[1]"
   ]
  },
  {
   "cell_type": "code",
   "execution_count": 145,
   "metadata": {},
   "outputs": [],
   "source": [
    "# Finding corresponding value of gd where \"1\" is located in ybd_train_binary_array\n",
    "\n",
    "for i in range(len(ybd_train_binary_array)):  # 80000\n",
    "    for j in range(ybd_train_binary_array.shape[1]):  # 25\n",
    "        if ybd_train_binary_array[i][j]==1:\n",
    "            if j<5:\n",
    "                gd1=gd[i][j]\n",
    "            elif j>=5 and j<10:\n",
    "                gd1=gd[i][(j-5)]\n",
    "            elif j>=10 and j<15:\n",
    "                gd1=gd[i][(j-10)]\n",
    "            elif j>=15 and j<20:\n",
    "                gd1=gd[i][(j-15)]\n",
    "            elif j>=20:\n",
    "                gd1=gd[i][(j-20)]"
   ]
  },
  {
   "cell_type": "code",
   "execution_count": 146,
   "metadata": {},
   "outputs": [
    {
     "data": {
      "text/plain": [
       "array([[2.44000e-05, 2.34437e-04, 5.15000e-05, 1.40909e-04, 1.42000e-05],\n",
       "       [1.60000e-05, 4.16000e-05, 1.95248e-04, 1.37000e-05, 4.99000e-06],\n",
       "       [9.45000e-05, 3.98000e-05, 1.09000e-05, 2.28000e-05, 6.63000e-06],\n",
       "       ...,\n",
       "       [6.62000e-06, 1.23000e-05, 1.45737e-04, 7.20000e-06, 8.19000e-06],\n",
       "       [1.79880e-04, 4.26000e-06, 1.24000e-05, 4.92000e-06, 1.46000e-05],\n",
       "       [7.35000e-06, 1.30000e-05, 3.82000e-06, 1.44000e-05, 9.98000e-06]])"
      ]
     },
     "execution_count": 146,
     "metadata": {},
     "output_type": "execute_result"
    }
   ],
   "source": [
    "hb=x_train_new[:,10:15] # Taking all rows and columns 11 to 15 of x_train_new # HB1,HB2,....,HB5\n",
    "hb"
   ]
  },
  {
   "cell_type": "code",
   "execution_count": 147,
   "metadata": {},
   "outputs": [
    {
     "data": {
      "text/plain": [
       "array([2.44000e-05, 2.34437e-04, 5.15000e-05, 1.40909e-04, 1.42000e-05])"
      ]
     },
     "execution_count": 147,
     "metadata": {},
     "output_type": "execute_result"
    }
   ],
   "source": [
    "hb[0]"
   ]
  },
  {
   "cell_type": "code",
   "execution_count": 148,
   "metadata": {},
   "outputs": [
    {
     "data": {
      "text/plain": [
       "(50000, 5)"
      ]
     },
     "execution_count": 148,
     "metadata": {},
     "output_type": "execute_result"
    }
   ],
   "source": [
    "len(hb),hb.shape[1]"
   ]
  },
  {
   "cell_type": "code",
   "execution_count": 149,
   "metadata": {},
   "outputs": [],
   "source": [
    "# Finding corresponding value of hb where \"1\" is located in ybd_train_binary_array\n",
    "\n",
    "for i in range(len(ybd_train_binary_array)):  # 80000\n",
    "    for j in range(ybd_train_binary_array.shape[1]):  # 25\n",
    "        if ybd_train_binary_array[i][j]==1:\n",
    "            if j<5:\n",
    "                hb1=hb[i][j]\n",
    "            elif j>=5 and j<10:\n",
    "                hb1=hb[i][(j-5)]\n",
    "            elif j>=10 and j<15:\n",
    "                hb1=hb[i][(j-10)]\n",
    "            elif j>=15 and j<20:\n",
    "                hb1=hb[i][(j-15)]\n",
    "            elif j>=20:\n",
    "                hb1=hb[i][(j-20)]"
   ]
  },
  {
   "cell_type": "code",
   "execution_count": 150,
   "metadata": {},
   "outputs": [
    {
     "data": {
      "text/plain": [
       "array([[4.45e-07, 1.43e-06, 6.20e-07, ..., 1.53e-06, 5.95e-06, 8.48e-07],\n",
       "       [6.92e-06, 3.06e-07, 1.10e-06, ..., 3.84e-06, 4.13e-07, 3.59e-07],\n",
       "       [9.27e-07, 3.71e-06, 3.23e-07, ..., 2.76e-07, 3.38e-07, 1.26e-05],\n",
       "       ...,\n",
       "       [1.24e-06, 7.11e-07, 6.75e-06, ..., 8.33e-07, 1.52e-07, 2.85e-07],\n",
       "       [3.61e-06, 2.37e-07, 5.20e-07, ..., 2.81e-06, 6.66e-07, 9.19e-07],\n",
       "       [3.77e-07, 2.75e-06, 2.27e-07, ..., 9.52e-07, 4.24e-06, 9.48e-07]])"
      ]
     },
     "execution_count": 150,
     "metadata": {},
     "output_type": "execute_result"
    }
   ],
   "source": [
    "hc=x_train_new[:,15:40] # Taking all rows and columns 16 to 40 of x_train_new_array\n",
    "hc  # HC11,.......,HC15, HC21,.......,HC25, HC31,......,HC35, HC41,......,HC45 and HC51,........,HC55"
   ]
  },
  {
   "cell_type": "code",
   "execution_count": 151,
   "metadata": {},
   "outputs": [
    {
     "data": {
      "text/plain": [
       "(50000, 25)"
      ]
     },
     "execution_count": 151,
     "metadata": {},
     "output_type": "execute_result"
    }
   ],
   "source": [
    "len(hc),hc.shape[1]"
   ]
  },
  {
   "cell_type": "code",
   "execution_count": 152,
   "metadata": {},
   "outputs": [
    {
     "data": {
      "text/plain": [
       "array([4.45000e-07, 1.43000e-06, 6.20000e-07, 1.32000e-06, 2.34000e-06,\n",
       "       9.80000e-07, 2.54000e-06, 1.52000e-06, 1.98597e-04, 4.03000e-06,\n",
       "       1.28000e-06, 9.84000e-07, 1.11000e-06, 3.05000e-07, 1.59000e-07,\n",
       "       3.45000e-07, 7.32000e-07, 4.16000e-07, 3.37000e-07, 3.16000e-07,\n",
       "       1.19000e-06, 1.24000e-06, 1.53000e-06, 5.95000e-06, 8.48000e-07])"
      ]
     },
     "execution_count": 152,
     "metadata": {},
     "output_type": "execute_result"
    }
   ],
   "source": [
    "hc[0]"
   ]
  },
  {
   "cell_type": "code",
   "execution_count": 153,
   "metadata": {},
   "outputs": [
    {
     "data": {
      "text/plain": [
       "array([[4.44975132e-07, 1.42992009e-06, 6.19965352e-07, ...,\n",
       "        1.52991450e-06, 5.94966750e-06, 8.47952611e-07],\n",
       "       [6.91961329e-06, 3.05982900e-07, 1.09993853e-06, ...,\n",
       "        3.83978541e-06, 4.12976920e-07, 3.58979938e-07],\n",
       "       [9.26948196e-07, 3.70979267e-06, 3.22981950e-07, ...,\n",
       "        2.75984576e-07, 3.37981112e-07, 1.25992959e-05],\n",
       "       ...,\n",
       "       [1.23993070e-06, 7.10960267e-07, 6.74962279e-06, ...,\n",
       "        8.32953449e-07, 1.51991506e-07, 2.84984073e-07],\n",
       "       [3.60979826e-06, 2.36986756e-07, 5.19970941e-07, ...,\n",
       "        2.80984297e-06, 6.65962782e-07, 9.18948643e-07],\n",
       "       [3.76978932e-07, 2.74984632e-06, 2.26987315e-07, ...,\n",
       "        9.51946799e-07, 4.23976306e-06, 9.47947023e-07]])"
      ]
     },
     "execution_count": 153,
     "metadata": {},
     "output_type": "execute_result"
    }
   ],
   "source": [
    "epsilon=0.3679\n",
    "\n",
    "hc_inverse_cdf=hc*(-1*math.log(epsilon))\n",
    "hc_inverse_cdf"
   ]
  },
  {
   "cell_type": "code",
   "execution_count": 154,
   "metadata": {},
   "outputs": [
    {
     "data": {
      "text/plain": [
       "(50000, 25)"
      ]
     },
     "execution_count": 154,
     "metadata": {},
     "output_type": "execute_result"
    }
   ],
   "source": [
    "len(hc_inverse_cdf),hc_inverse_cdf.shape[1]"
   ]
  },
  {
   "cell_type": "code",
   "execution_count": 155,
   "metadata": {},
   "outputs": [
    {
     "data": {
      "text/plain": [
       "array([4.44975132e-07, 1.42992009e-06, 6.19965352e-07, 1.31992623e-06,\n",
       "       2.33986923e-06, 9.79945235e-07, 2.53985806e-06, 1.51991506e-06,\n",
       "       1.98585902e-04, 4.02977479e-06, 1.27992847e-06, 9.83945011e-07,\n",
       "       1.10993797e-06, 3.04982956e-07, 1.58991115e-07, 3.44980720e-07,\n",
       "       7.31959094e-07, 4.15976753e-07, 3.36981167e-07, 3.15982341e-07,\n",
       "       1.18993350e-06, 1.23993070e-06, 1.52991450e-06, 5.94966750e-06,\n",
       "       8.47952611e-07])"
      ]
     },
     "execution_count": 155,
     "metadata": {},
     "output_type": "execute_result"
    }
   ],
   "source": [
    "hc_inverse_cdf[0]"
   ]
  },
  {
   "cell_type": "code",
   "execution_count": 156,
   "metadata": {},
   "outputs": [
    {
     "name": "stdout",
     "output_type": "stream",
     "text": [
      "1414297.6236531332\n"
     ]
    }
   ],
   "source": [
    "# Constraint 1 and 2 verification for each subgroup i.e. (constraint (1(d) and 1(e)) (For Training data)\n",
    "# Putting all value in a single cell to calculate SINR\n",
    "\n",
    "NO=1.19*(10**-6)\n",
    "C_min=1.25892541179416\n",
    "D_min=1.25892541179416\n",
    "\n",
    "pb=ypd_train_new[:,0:25]\n",
    "pd=ypd_train_new[:,25:50]\n",
    "B=y_conc_train_new[:,50:75]\n",
    "gb=x_train_new[:,0:5]\n",
    "gd=x_train_new[:,5:10]\n",
    "hb=x_train_new[:,10:15]\n",
    "\n",
    "epsilon=0.3679\n",
    "hc=x_train_new[:,15:40]\n",
    "hc_inverse_cdf=hc*(-1*math.log(epsilon))\n",
    "\n",
    "scaling_factor_pb=100                 # See DPB.csv file\n",
    "scaling_factor_pd=12.5892541179416    # See DPD.csv file\n",
    "\n",
    "pb_scaled=scaling_factor_pb*(pb)\n",
    "pd_scaled=scaling_factor_pd*(pd)\n",
    "\n",
    "count_train_constraint1_satisfied=0\n",
    "count_train_constraint1_not_satisfied=0\n",
    "\n",
    "count_train_constraint2_satisfied=0\n",
    "count_train_constraint2_not_satisfied=0\n",
    "\n",
    "# Converting ybdr_train_new in ybd_train_binary i.e. converting continuous channel assignments \n",
    "# in binary form based on previous logic\n",
    "\n",
    "sm_BW=np.zeros(len(B))\n",
    "B_binary_array=[]\n",
    "\n",
    "for rows in B:\n",
    "    #print(len(rows))\n",
    "    tempList=[]\n",
    "    maxValue=0\n",
    "    \n",
    "    for j in range(len(rows)):\n",
    "        if j%5==0:\n",
    "            maxValue=max(rows[j:j+5])\n",
    "            #print(j)\n",
    "        if rows[j]==maxValue:\n",
    "            tempList.append(1)\n",
    "        else:\n",
    "            tempList.append(0)\n",
    "            \n",
    "    B_binary_array.append(tempList)\n",
    "\n",
    "for i in range (len(B)): # 80000\n",
    "    for j in range (B.shape[1]): # 25\n",
    "        if B_binary_array[i][j]==1:  \n",
    "            if j<5:\n",
    "                gb1=gb[i][0] \n",
    "                gd1=gd[i][j] \n",
    "                hb1=hb[i][j]\n",
    "            elif j>=5 and j<10:\n",
    "                gb1=gb[i][1]\n",
    "                gd1=gd[i][(j-5)]\n",
    "                hb1=hb[i][(j-5)]\n",
    "            elif j>=10 and j<15:\n",
    "                gb1=gb[i][2]\n",
    "                gd1=gd[i][(j-10)]\n",
    "                hb1=hb[i][(j-10)]\n",
    "            elif j>=15 and j<20:\n",
    "                gb1=gb[i][3]\n",
    "                gd1=gd[i][(j-15)]\n",
    "                hb1=hb[i][(j-15)]\n",
    "            elif j>=20:\n",
    "                gb1=gb[i][4] \n",
    "                gd1=gd[i][(j-20)]\n",
    "                hb1=hb[i][(j-20)]\n",
    "                \n",
    "            ############## SINR for constraint 1(d) \n",
    "            SINR_D=((pb_scaled[i][j]*gb1)/(NO+(pd_scaled[i][j]*hc_inverse_cdf[i][j])))  # To use scaled pb and pd\n",
    "#             print(SINR_D)\n",
    "            sm1=math.log2(1+SINR_D)  # sm- sum-rate for contraint 1(d)\n",
    "#             print(sm1)\n",
    "\n",
    "            if SINR_D>=C_min:\n",
    "                count_train_constraint1_satisfied=count_train_constraint1_satisfied+1\n",
    "#                 print(\"Constraint1 for training satisfied\")\n",
    "            else: \n",
    "                count_train_constraint1_not_satisfied=count_train_constraint1_not_satisfied+1\n",
    "#                 print(\"Constraint1 for training not satisfied\")\n",
    "\n",
    "            ############## SINR for constraint 1(e) \n",
    "            SINR_E=((pd_scaled[i][j]*gd1)/(NO+(pb_scaled[i][j]*hb1)))  # To use scaled pb and pd\n",
    "#             print(SINR_E)\n",
    "            sm2=math.log2(1+SINR_E)  # sm- sum-rate for contraint 1(e)\n",
    "#             print(sm2)\n",
    "\n",
    "            if SINR_E>=D_min:\n",
    "                count_train_constraint2_satisfied=count_train_constraint2_satisfied+1\n",
    "#                 print(\"Constraint2 of training satisfied\")\n",
    "            else: \n",
    "                count_train_constraint2_not_satisfied=count_train_constraint2_not_satisfied+1\n",
    "#                 print(\"Constraint2 of training not satisfied\")\n",
    "\n",
    "            ########## Sum-rate calculation\n",
    "            BW=15000  # Band-width\n",
    "            sm_tot=sm1+sm2 # total sum-rate\n",
    "#             print(sm_tot) \n",
    "            sm_BW[i]=sm_BW[i]+BW*sm_tot\n",
    "#             print(sm_BW) \n",
    "sm_avg_train=np.mean(sm_BW) # average sum-rate\n",
    "print(sm_avg_train)"
   ]
  },
  {
   "cell_type": "code",
   "execution_count": 157,
   "metadata": {},
   "outputs": [
    {
     "data": {
      "text/plain": [
       "1414297.6236531332"
      ]
     },
     "execution_count": 157,
     "metadata": {},
     "output_type": "execute_result"
    }
   ],
   "source": [
    "sm_avg_train"
   ]
  },
  {
   "cell_type": "code",
   "execution_count": 158,
   "metadata": {},
   "outputs": [
    {
     "data": {
      "text/plain": [
       "241475"
      ]
     },
     "execution_count": 158,
     "metadata": {},
     "output_type": "execute_result"
    }
   ],
   "source": [
    "count_train_constraint1_satisfied"
   ]
  },
  {
   "cell_type": "code",
   "execution_count": 159,
   "metadata": {},
   "outputs": [
    {
     "data": {
      "text/plain": [
       "8525"
      ]
     },
     "execution_count": 159,
     "metadata": {},
     "output_type": "execute_result"
    }
   ],
   "source": [
    "count_train_constraint1_not_satisfied"
   ]
  },
  {
   "cell_type": "code",
   "execution_count": 160,
   "metadata": {},
   "outputs": [
    {
     "data": {
      "text/plain": [
       "96.59"
      ]
     },
     "execution_count": 160,
     "metadata": {},
     "output_type": "execute_result"
    }
   ],
   "source": [
    "Perc_of_train_constraint1_satisfied=(count_train_constraint1_satisfied/(count_train_constraint1_satisfied+count_train_constraint1_not_satisfied))*100\n",
    "Perc_of_train_constraint1_satisfied"
   ]
  },
  {
   "cell_type": "code",
   "execution_count": 161,
   "metadata": {},
   "outputs": [
    {
     "data": {
      "text/plain": [
       "3.4099999999999966"
      ]
     },
     "execution_count": 161,
     "metadata": {},
     "output_type": "execute_result"
    }
   ],
   "source": [
    "Perc_of_train_constraint1_not_satisfied=100-Perc_of_train_constraint1_satisfied\n",
    "Perc_of_train_constraint1_not_satisfied"
   ]
  },
  {
   "cell_type": "code",
   "execution_count": 162,
   "metadata": {},
   "outputs": [
    {
     "data": {
      "text/plain": [
       "250000"
      ]
     },
     "execution_count": 162,
     "metadata": {},
     "output_type": "execute_result"
    }
   ],
   "source": [
    "count_train_constraint2_satisfied"
   ]
  },
  {
   "cell_type": "code",
   "execution_count": 163,
   "metadata": {},
   "outputs": [
    {
     "data": {
      "text/plain": [
       "0"
      ]
     },
     "execution_count": 163,
     "metadata": {},
     "output_type": "execute_result"
    }
   ],
   "source": [
    "count_train_constraint2_not_satisfied"
   ]
  },
  {
   "cell_type": "code",
   "execution_count": 164,
   "metadata": {},
   "outputs": [
    {
     "data": {
      "text/plain": [
       "100.0"
      ]
     },
     "execution_count": 164,
     "metadata": {},
     "output_type": "execute_result"
    }
   ],
   "source": [
    "Perc_of_train_constraint2_satisfied=(count_train_constraint2_satisfied/(count_train_constraint2_satisfied+count_train_constraint2_not_satisfied))*100\n",
    "Perc_of_train_constraint2_satisfied"
   ]
  },
  {
   "cell_type": "code",
   "execution_count": 165,
   "metadata": {},
   "outputs": [
    {
     "data": {
      "text/plain": [
       "0.0"
      ]
     },
     "execution_count": 165,
     "metadata": {},
     "output_type": "execute_result"
    }
   ],
   "source": [
    "Perc_of_train_constraint2_not_satisfied=100-Perc_of_train_constraint2_satisfied\n",
    "Perc_of_train_constraint2_not_satisfied"
   ]
  },
  {
   "cell_type": "code",
   "execution_count": 166,
   "metadata": {},
   "outputs": [],
   "source": [
    "# done"
   ]
  }
 ],
 "metadata": {
  "kernelspec": {
   "display_name": "Python 3",
   "language": "python",
   "name": "python3"
  },
  "language_info": {
   "codemirror_mode": {
    "name": "ipython",
    "version": 3
   },
   "file_extension": ".py",
   "mimetype": "text/x-python",
   "name": "python",
   "nbconvert_exporter": "python",
   "pygments_lexer": "ipython3",
   "version": "3.8.5"
  }
 },
 "nbformat": 4,
 "nbformat_minor": 4
}
